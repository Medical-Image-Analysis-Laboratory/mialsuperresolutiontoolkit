{
 "cells": [
  {
   "cell_type": "code",
   "execution_count": 1,
   "metadata": {},
   "outputs": [
    {
     "name": "stderr",
     "output_type": "stream",
     "text": [
      "Failed to import duecredit due to No module named 'duecredit'\n"
     ]
    }
   ],
   "source": [
    "import os\n",
    "\n",
    "from bids import BIDSLayout\n",
    "\n",
    "from glob import glob\n",
    "\n",
    "from nipype.interfaces.io import BIDSDataGrabber\n",
    "from nipype.pipeline import Node, MapNode, Workflow\n",
    "from nipype.interfaces.utility import Function"
   ]
  },
  {
   "cell_type": "code",
   "execution_count": 2,
   "metadata": {},
   "outputs": [
    {
     "name": "stdout",
     "output_type": "stream",
     "text": [
      "BIDS Layout: ...k Geneva 2019/ds-supermri/bids | Subjects: 1 | Sessions: 0 | Runs: 6\n"
     ]
    }
   ],
   "source": [
    "bids_dir = os.path.join('/home/sirius/BrainHack Geneva 2019','ds-supermri','bids')\n",
    "output_dir = os.path.join('/home/sirius/BrainHack Geneva 2019','ds-supermri','bids','derivatives','mialsrtk')\n",
    "\n",
    "subject = 'eyesVD46a'\n",
    "\n",
    "layout = BIDSLayout(bids_dir)\n",
    "print(layout)"
   ]
  },
  {
   "cell_type": "code",
   "execution_count": 3,
   "metadata": {},
   "outputs": [],
   "source": [
    "bg = Node(BIDSDataGrabber(infields = ['subject']),name='bids_grabber')\n",
    "bg.inputs.base_dir = bids_dir\n",
    "bg.inputs.subject = subject\n",
    "bg.inputs.output_query = {'T2ws': dict(suffix='T2w')}"
   ]
  },
  {
   "cell_type": "code",
   "execution_count": 4,
   "metadata": {
    "scrolled": true
   },
   "outputs": [
    {
     "name": "stdout",
     "output_type": "stream",
     "text": [
      "190323-12:03:31,747 nipype.workflow INFO:\n",
      "\t Workflow bids_demo settings: ['check', 'execution', 'logging', 'monitoring']\n",
      "190323-12:03:31,749 nipype.workflow INFO:\n",
      "\t Running serially.\n",
      "190323-12:03:31,750 nipype.workflow INFO:\n",
      "\t [Node] Setting-up \"bids_demo.bids_grabber\" in \"/home/sirius/BrainHack Geneva 2019/ds-supermri/bids/derivatives/mialsrtk/bids_demo/bids_grabber\".\n",
      "190323-12:03:31,753 nipype.workflow INFO:\n",
      "\t [Node] Running \"bids_grabber\" (\"nipype.interfaces.io.BIDSDataGrabber\")\n",
      "190323-12:03:31,769 nipype.workflow INFO:\n",
      "\t [Node] Finished \"bids_demo.bids_grabber\".\n",
      "190323-12:03:31,769 nipype.workflow INFO:\n",
      "\t [Node] Setting-up \"bids_demo.filterT2wNii\" in \"/home/sirius/BrainHack Geneva 2019/ds-supermri/bids/derivatives/mialsrtk/bids_demo/filterT2wNii\".\n",
      "190323-12:03:31,771 nipype.workflow INFO:\n",
      "\t [Node] Outdated cache found for \"bids_demo.filterT2wNii\".\n",
      "190323-12:03:31,773 nipype.workflow INFO:\n",
      "\t [Node] Running \"filterT2wNii\" (\"nipype.interfaces.utility.wrappers.Function\")\n",
      "\n",
      "\n",
      "Loaded T2w images ['/home/sirius/BrainHack Geneva 2019/ds-supermri/bids/sub-eyesVD46a/anat/sub-eyesVD46a_run-1_T2w.nii.gz', '/home/sirius/BrainHack Geneva 2019/ds-supermri/bids/sub-eyesVD46a/anat/sub-eyesVD46a_run-2_T2w.nii.gz', '/home/sirius/BrainHack Geneva 2019/ds-supermri/bids/sub-eyesVD46a/anat/sub-eyesVD46a_run-3_T2w.nii.gz', '/home/sirius/BrainHack Geneva 2019/ds-supermri/bids/sub-eyesVD46a/anat/sub-eyesVD46a_run-4_T2w.nii.gz', '/home/sirius/BrainHack Geneva 2019/ds-supermri/bids/sub-eyesVD46a/anat/sub-eyesVD46a_run-5_T2w.nii.gz', '/home/sirius/BrainHack Geneva 2019/ds-supermri/bids/sub-eyesVD46a/anat/sub-eyesVD46a_run-6_T2w.nii.gz']\n",
      "\n",
      "\n",
      "190323-12:03:31,777 nipype.workflow INFO:\n",
      "\t [Node] Finished \"bids_demo.filterT2wNii\".\n"
     ]
    }
   ],
   "source": [
    "def filterNiftis(paths):\n",
    "    paths = [p for p in paths if 'nii' in p]\n",
    "    print(\"\\n\\nLoaded T2w images \" + str(paths) + \"\\n\\n\")\n",
    "    return paths\n",
    "\n",
    "filterT2wNii = Node(Function(function=filterNiftis, input_names=[\"paths\"],\n",
    "                            output_names=[\"paths\"]), name=\"filterT2wNii\")\n",
    "\n",
    "wf = Workflow(name=\"bids_demo\",base_dir=output_dir)\n",
    "wf.connect(bg, \"T2ws\", filterT2wNii, \"paths\")\n",
    "res = wf.run()"
   ]
  },
  {
   "cell_type": "code",
   "execution_count": 5,
   "metadata": {},
   "outputs": [
    {
     "name": "stdout",
     "output_type": "stream",
     "text": [
      "190323-12:03:31,786 nipype.workflow INFO:\n",
      "\t Workflow bids_demo settings: ['check', 'execution', 'logging', 'monitoring']\n",
      "190323-12:03:31,791 nipype.workflow INFO:\n",
      "\t Running serially.\n",
      "190323-12:03:31,792 nipype.workflow INFO:\n",
      "\t [Node] Setting-up \"bids_demo.bids_grabber\" in \"/home/sirius/BrainHack Geneva 2019/ds-supermri/bids/derivatives/mialsrtk/bids_demo/bids_grabber\".\n",
      "190323-12:03:31,795 nipype.workflow INFO:\n",
      "\t [Node] Running \"bids_grabber\" (\"nipype.interfaces.io.BIDSDataGrabber\")\n",
      "190323-12:03:31,811 nipype.workflow INFO:\n",
      "\t [Node] Finished \"bids_demo.bids_grabber\".\n",
      "190323-12:03:31,811 nipype.workflow INFO:\n",
      "\t [Node] Setting-up \"bids_demo.filterT2wNii\" in \"/home/sirius/BrainHack Geneva 2019/ds-supermri/bids/derivatives/mialsrtk/bids_demo/filterT2wNii\".\n",
      "190323-12:03:31,813 nipype.workflow INFO:\n",
      "\t [Node] Outdated cache found for \"bids_demo.filterT2wNii\".\n",
      "190323-12:03:31,815 nipype.workflow INFO:\n",
      "\t [Node] Running \"filterT2wNii\" (\"nipype.interfaces.utility.wrappers.Function\")\n",
      "\n",
      "\n",
      "Loaded T2w images ['/home/sirius/BrainHack Geneva 2019/ds-supermri/bids/sub-eyesVD46a/anat/sub-eyesVD46a_run-1_T2w.nii.gz', '/home/sirius/BrainHack Geneva 2019/ds-supermri/bids/sub-eyesVD46a/anat/sub-eyesVD46a_run-2_T2w.nii.gz', '/home/sirius/BrainHack Geneva 2019/ds-supermri/bids/sub-eyesVD46a/anat/sub-eyesVD46a_run-3_T2w.nii.gz', '/home/sirius/BrainHack Geneva 2019/ds-supermri/bids/sub-eyesVD46a/anat/sub-eyesVD46a_run-4_T2w.nii.gz', '/home/sirius/BrainHack Geneva 2019/ds-supermri/bids/sub-eyesVD46a/anat/sub-eyesVD46a_run-5_T2w.nii.gz', '/home/sirius/BrainHack Geneva 2019/ds-supermri/bids/sub-eyesVD46a/anat/sub-eyesVD46a_run-6_T2w.nii.gz']\n",
      "\n",
      "\n",
      "190323-12:03:31,819 nipype.workflow INFO:\n",
      "\t [Node] Finished \"bids_demo.filterT2wNii\".\n",
      "190323-12:03:31,820 nipype.workflow INFO:\n",
      "\t [Node] Setting-up \"bids_demo.preparePaths\" in \"/home/sirius/BrainHack Geneva 2019/ds-supermri/bids/derivatives/mialsrtk/bids_demo/preparePaths\".\n",
      "190323-12:03:31,821 nipype.workflow INFO:\n",
      "\t [Node] Outdated cache found for \"bids_demo.preparePaths\".\n",
      "190323-12:03:31,824 nipype.workflow INFO:\n",
      "\t [Node] Running \"preparePaths\" (\"__main__.prepareDockerPaths\")\n",
      "/fetaldata/sub-eyesVD46a/anat/sub-eyesVD46a_run-1_T2w.nii.gz\n",
      "/fetaldata/sub-eyesVD46a/anat/sub-eyesVD46a_run-2_T2w.nii.gz\n",
      "/fetaldata/sub-eyesVD46a/anat/sub-eyesVD46a_run-3_T2w.nii.gz\n",
      "/fetaldata/sub-eyesVD46a/anat/sub-eyesVD46a_run-4_T2w.nii.gz\n",
      "/fetaldata/sub-eyesVD46a/anat/sub-eyesVD46a_run-5_T2w.nii.gz\n",
      "/fetaldata/sub-eyesVD46a/anat/sub-eyesVD46a_run-6_T2w.nii.gz\n",
      "190323-12:03:31,828 nipype.workflow INFO:\n",
      "\t [Node] Finished \"bids_demo.preparePaths\".\n"
     ]
    }
   ],
   "source": [
    "from traits.api import *\n",
    "from nipype.utils.filemanip import split_filename\n",
    "\n",
    "from nipype.interfaces.base import traits, isdefined, CommandLine, CommandLineInputSpec,\\\n",
    "    TraitedSpec, File, InputMultiPath, OutputMultiPath, BaseInterface, BaseInterfaceInputSpec\n",
    "\n",
    "class prepareDockerPathsInputSpec(BaseInterfaceInputSpec):\n",
    "    local_paths = InputMultiPath(File(desc='input paths', mandatory = True, exists = True))\n",
    "    local_dir = Directory(mandatory=True)\n",
    "    docker_dir = Directory('/fetaldata',mandatory=True)\n",
    "\n",
    "class prepareDockerPathsOutputSpec(TraitedSpec):\n",
    "    docker_paths = OutputMultiPath(File(desc='docker paths'))\n",
    "\n",
    "class prepareDockerPaths(BaseInterface):\n",
    "    input_spec = prepareDockerPathsInputSpec\n",
    "    output_spec = prepareDockerPathsOutputSpec\n",
    "\n",
    "    def _run_interface(self,runtime):\n",
    "        return runtime\n",
    "           \n",
    "    def _list_outputs(self):\n",
    "\n",
    "        outputs = self._outputs().get()\n",
    "        outputs[\"docker_paths\"] = []\n",
    "        for p in self.inputs.local_paths:\n",
    "            p = os.path.join(self.inputs.docker_dir,p.split(self.inputs.local_dir)[1].strip(\"/\"))\n",
    "            print(p)\n",
    "            outputs[\"docker_paths\"].append(p)\n",
    "        return outputs\n",
    "    \n",
    "\n",
    "preparePaths = Node(interface=prepareDockerPaths(), name=\"preparePaths\")  \n",
    "\n",
    "preparePaths.inputs.local_dir = bids_dir\n",
    "preparePaths.inputs.docker_dir = '/fetaldata'\n",
    "\n",
    "wf.connect(filterT2wNii, \"paths\", preparePaths, \"local_paths\")\n",
    "res = wf.run()"
   ]
  },
  {
   "cell_type": "code",
   "execution_count": 6,
   "metadata": {},
   "outputs": [],
   "source": [
    "import subprocess\n",
    "def run(self, command, env={}, cwd=os.getcwd()):\n",
    "    merged_env = os.environ\n",
    "    merged_env.update(env)\n",
    "    process = subprocess.run(command, shell=True,\n",
    "                               env=merged_env, cwd=cwd, capture_output=True)\n",
    "    return process"
   ]
  },
  {
   "cell_type": "code",
   "execution_count": null,
   "metadata": {},
   "outputs": [],
   "source": []
  },
  {
   "cell_type": "code",
   "execution_count": null,
   "metadata": {},
   "outputs": [],
   "source": []
  },
  {
   "cell_type": "code",
   "execution_count": 7,
   "metadata": {},
   "outputs": [],
   "source": [
    "#proc = run(self,'docker run --rm -v \"/home/sirius/BrainHack Geneva 2019/ds-supermri/bids\":/fetaldata --entrypoint \"btkNLMDenoising\" sebastientourbier/mialsuperresolutiontoolkit -i /fetaldata/sub-eyesVD46a/anat/sub-eyesVD46a_run-1_T2w.nii.gz -o /fetaldata/sub-eyesVD46a_run-1_T2w_nlm.nii.gz -b 0.1')\n",
    "#print(proc.stdout)"
   ]
  },
  {
   "cell_type": "code",
   "execution_count": 8,
   "metadata": {},
   "outputs": [
    {
     "data": {
      "text/plain": [
       "'/fetaldata/mialsrtk/example'"
      ]
     },
     "execution_count": 8,
     "metadata": {},
     "output_type": "execute_result"
    }
   ],
   "source": [
    "os.getcwd().replace('/home/sirius/BrainHack Geneva 2019/mialsuperresolutiontoolkit/supermribidsapp','/fetaldata')"
   ]
  },
  {
   "cell_type": "code",
   "execution_count": 9,
   "metadata": {
    "scrolled": true
   },
   "outputs": [
    {
     "name": "stdout",
     "output_type": "stream",
     "text": [
      "190323-12:03:32,276 nipype.workflow INFO:\n",
      "\t Workflow bids_demo settings: ['check', 'execution', 'logging', 'monitoring']\n",
      "190323-12:03:32,279 nipype.workflow INFO:\n",
      "\t Running serially.\n",
      "190323-12:03:32,280 nipype.workflow INFO:\n",
      "\t [Node] Setting-up \"bids_demo.bids_grabber\" in \"/home/sirius/BrainHack Geneva 2019/ds-supermri/bids/derivatives/mialsrtk/bids_demo/bids_grabber\".\n",
      "190323-12:03:32,282 nipype.workflow INFO:\n",
      "\t [Node] Running \"bids_grabber\" (\"nipype.interfaces.io.BIDSDataGrabber\")\n",
      "190323-12:03:32,297 nipype.workflow INFO:\n",
      "\t [Node] Finished \"bids_demo.bids_grabber\".\n",
      "190323-12:03:32,298 nipype.workflow INFO:\n",
      "\t [Node] Setting-up \"bids_demo.filterT2wNii\" in \"/home/sirius/BrainHack Geneva 2019/ds-supermri/bids/derivatives/mialsrtk/bids_demo/filterT2wNii\".\n",
      "190323-12:03:32,299 nipype.workflow INFO:\n",
      "\t [Node] Cached \"bids_demo.filterT2wNii\" - collecting precomputed outputs\n",
      "190323-12:03:32,300 nipype.workflow INFO:\n",
      "\t [Node] \"bids_demo.filterT2wNii\" found cached.\n",
      "190323-12:03:32,300 nipype.workflow INFO:\n",
      "\t [Node] Setting-up \"bids_demo.preparePaths\" in \"/home/sirius/BrainHack Geneva 2019/ds-supermri/bids/derivatives/mialsrtk/bids_demo/preparePaths\".\n",
      "190323-12:03:32,302 nipype.workflow INFO:\n",
      "\t [Node] Outdated cache found for \"bids_demo.preparePaths\".\n",
      "190323-12:03:32,303 nipype.workflow INFO:\n",
      "\t [Node] Running \"preparePaths\" (\"__main__.prepareDockerPaths\")\n",
      "/fetaldata/sub-eyesVD46a/anat/sub-eyesVD46a_run-1_T2w.nii.gz\n",
      "/fetaldata/sub-eyesVD46a/anat/sub-eyesVD46a_run-2_T2w.nii.gz\n",
      "/fetaldata/sub-eyesVD46a/anat/sub-eyesVD46a_run-3_T2w.nii.gz\n",
      "/fetaldata/sub-eyesVD46a/anat/sub-eyesVD46a_run-4_T2w.nii.gz\n",
      "/fetaldata/sub-eyesVD46a/anat/sub-eyesVD46a_run-5_T2w.nii.gz\n",
      "/fetaldata/sub-eyesVD46a/anat/sub-eyesVD46a_run-6_T2w.nii.gz\n",
      "190323-12:03:32,307 nipype.workflow INFO:\n",
      "\t [Node] Finished \"bids_demo.preparePaths\".\n",
      "190323-12:03:32,308 nipype.workflow INFO:\n",
      "\t [Node] Setting-up \"bids_demo.nlmDenoise\" in \"/home/sirius/BrainHack Geneva 2019/ds-supermri/bids/derivatives/mialsrtk/bids_demo/nlmDenoise\".\n",
      "190323-12:03:32,310 nipype.workflow INFO:\n",
      "\t [Node] Running \"nlmDenoise\" (\"__main__.MultipleBtkNLMDenoising\")\n",
      "... cmd: docker run --rm -u 1002:1000 -v \"/home/sirius/BrainHack Geneva 2019/ds-supermri/bids\":/fetaldata sebastientourbier/mialsuperresolutiontoolkit btkNLMDenoising -i /fetaldata/sub-eyesVD46a/anat/sub-eyesVD46a_run-1_T2w.nii.gz -o /fetaldata/derivatives/mialsrtk/bids_demo/nlmDenoise/sub-eyesVD46a_run-1_T2w_nlm.nii.gz -b 0.1\n",
      "... cmd: docker run --rm -u 1002:1000 -v \"/home/sirius/BrainHack Geneva 2019/ds-supermri/bids\":/fetaldata sebastientourbier/mialsuperresolutiontoolkit btkNLMDenoising -i /fetaldata/sub-eyesVD46a/anat/sub-eyesVD46a_run-2_T2w.nii.gz -o /fetaldata/derivatives/mialsrtk/bids_demo/nlmDenoise/sub-eyesVD46a_run-2_T2w_nlm.nii.gz -b 0.1\n",
      "... cmd: docker run --rm -u 1002:1000 -v \"/home/sirius/BrainHack Geneva 2019/ds-supermri/bids\":/fetaldata sebastientourbier/mialsuperresolutiontoolkit btkNLMDenoising -i /fetaldata/sub-eyesVD46a/anat/sub-eyesVD46a_run-3_T2w.nii.gz -o /fetaldata/derivatives/mialsrtk/bids_demo/nlmDenoise/sub-eyesVD46a_run-3_T2w_nlm.nii.gz -b 0.1\n",
      "... cmd: docker run --rm -u 1002:1000 -v \"/home/sirius/BrainHack Geneva 2019/ds-supermri/bids\":/fetaldata sebastientourbier/mialsuperresolutiontoolkit btkNLMDenoising -i /fetaldata/sub-eyesVD46a/anat/sub-eyesVD46a_run-4_T2w.nii.gz -o /fetaldata/derivatives/mialsrtk/bids_demo/nlmDenoise/sub-eyesVD46a_run-4_T2w_nlm.nii.gz -b 0.1\n",
      "... cmd: docker run --rm -u 1002:1000 -v \"/home/sirius/BrainHack Geneva 2019/ds-supermri/bids\":/fetaldata sebastientourbier/mialsuperresolutiontoolkit btkNLMDenoising -i /fetaldata/sub-eyesVD46a/anat/sub-eyesVD46a_run-5_T2w.nii.gz -o /fetaldata/derivatives/mialsrtk/bids_demo/nlmDenoise/sub-eyesVD46a_run-5_T2w_nlm.nii.gz -b 0.1\n",
      "... cmd: docker run --rm -u 1002:1000 -v \"/home/sirius/BrainHack Geneva 2019/ds-supermri/bids\":/fetaldata sebastientourbier/mialsuperresolutiontoolkit btkNLMDenoising -i /fetaldata/sub-eyesVD46a/anat/sub-eyesVD46a_run-6_T2w.nii.gz -o /fetaldata/derivatives/mialsrtk/bids_demo/nlmDenoise/sub-eyesVD46a_run-6_T2w_nlm.nii.gz -b 0.1\n",
      "190323-12:05:53,297 nipype.workflow INFO:\n",
      "\t [Node] Finished \"bids_demo.nlmDenoise\".\n"
     ]
    }
   ],
   "source": [
    "from traits.api import *\n",
    "from nipype.utils.filemanip import split_filename\n",
    "\n",
    "from nipype.interfaces.base import traits, isdefined, CommandLine, CommandLineInputSpec,\\\n",
    "    TraitedSpec, File, InputMultiPath, OutputMultiPath, BaseInterface, BaseInterfaceInputSpec\n",
    "\n",
    "import nibabel as nib\n",
    "\n",
    "class BtkNLMDenoisingInputSpec(BaseInterfaceInputSpec):\n",
    "    bids_dir = Directory(desc='BIDS root directory',mandatory=True,exists=True)\n",
    "    in_file = File(desc='Input image',mandatory=True,)\n",
    "    out_postfix = traits.Str(\"_nlm\", usedefault=True)\n",
    "    weight = traits.Float(0.1,desc='NLM weight (0.1 by default)')\n",
    "\n",
    "class BtkNLMDenoisingOutputSpec(TraitedSpec):\n",
    "    out_file = File(desc='Denoised image')\n",
    "\n",
    "class BtkNLMDenoising(BaseInterface):\n",
    "\n",
    "    input_spec = BtkNLMDenoisingInputSpec\n",
    "    output_spec = BtkNLMDenoisingOutputSpec\n",
    "    \n",
    "    def _run_interface(self, runtime):\n",
    "        _, name, ext = split_filename(os.path.abspath(self.inputs.in_file))\n",
    "        out_file = os.path.join(os.getcwd().replace(self.inputs.bids_dir,'/fetaldata'), ''.join((name, self.inputs.out_postfix, ext)))\n",
    "        cmd = 'docker run --rm -u {}:{} -v \"{}\":/fetaldata sebastientourbier/mialsuperresolutiontoolkit btkNLMDenoising -i {} -o {} -b {}'.format(os.getuid(),os.getgid(),self.inputs.bids_dir,self.inputs.in_file,out_file,self.inputs.weight)\n",
    "        try:\n",
    "            print('... cmd: {}'.format(cmd))\n",
    "            run(self, cmd, env={}, cwd=os.path.abspath(self.inputs.bids_dir))\n",
    "        except:\n",
    "            print('Failed')\n",
    "        return runtime\n",
    "\n",
    "    def _list_outputs(self):\n",
    "        outputs = self._outputs().get()\n",
    "        _, name, ext = split_filename(os.path.abspath(self.inputs.in_file))\n",
    "        outputs['out_file'] = os.path.join(os.getcwd(), ''.join((name, self.inputs.out_postfix, ext)))\n",
    "        return outputs\n",
    "\n",
    "class MultipleBtkNLMDenoisingInputSpec(BaseInterfaceInputSpec):\n",
    "    bids_dir = Directory(desc='BIDS root directory',mandatory=True,exists=True)\n",
    "    input_images = InputMultiPath(File(desc='files to be denoised', mandatory = True))\n",
    "    weight = traits.Float(0.1)\n",
    "    out_postfix = traits.Str(\"_nlm\", usedefault=True)\n",
    "    \n",
    "class MultipleBtkNLMDenoisingOutputSpec(TraitedSpec):\n",
    "    output_images = OutputMultiPath(File())\n",
    "\n",
    "class MultipleBtkNLMDenoising(BaseInterface):\n",
    "    input_spec = MultipleBtkNLMDenoisingInputSpec\n",
    "    output_spec = MultipleBtkNLMDenoisingOutputSpec\n",
    "\n",
    "    def _run_interface(self, runtime):\n",
    "        for input_image in self.inputs.input_images:\n",
    "            ax = BtkNLMDenoising(bids_dir = self.inputs.bids_dir, in_file = input_image, out_postfix=self.inputs.out_postfix, weight = self.inputs.weight)\n",
    "            ax.run()\n",
    "        return runtime\n",
    "\n",
    "    def _list_outputs(self):\n",
    "        outputs = self._outputs().get()\n",
    "        outputs['output_images'] = glob(os.path.abspath(\"*.nii.gz\"))\n",
    "        return outputs\n",
    "    \n",
    "\n",
    "nlmDenoise = Node(interface=MultipleBtkNLMDenoising(),base_dir=os.path.join(output_dir,'bids_demo'),name='nlmDenoise')\n",
    "nlmDenoise.inputs.bids_dir = bids_dir\n",
    "nlmDenoise.inputs.weight = 0.1\n",
    "                  \n",
    "wf.connect(preparePaths, \"docker_paths\", nlmDenoise, \"input_images\")\n",
    "res = wf.run()"
   ]
  },
  {
   "cell_type": "code",
   "execution_count": null,
   "metadata": {},
   "outputs": [],
   "source": []
  },
  {
   "cell_type": "code",
   "execution_count": null,
   "metadata": {},
   "outputs": [],
   "source": []
  },
  {
   "cell_type": "code",
   "execution_count": null,
   "metadata": {},
   "outputs": [],
   "source": []
  }
 ],
 "metadata": {
  "kernelspec": {
   "display_name": "Python 3",
   "language": "python",
   "name": "python3"
  },
  "language_info": {
   "codemirror_mode": {
    "name": "ipython",
    "version": 3
   },
   "file_extension": ".py",
   "mimetype": "text/x-python",
   "name": "python",
   "nbconvert_exporter": "python",
   "pygments_lexer": "ipython3",
   "version": "3.7.2"
  }
 },
 "nbformat": 4,
 "nbformat_minor": 2
}
