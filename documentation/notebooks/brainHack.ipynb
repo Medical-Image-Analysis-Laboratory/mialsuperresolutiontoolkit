{
 "cells": [
  {
   "cell_type": "markdown",
   "metadata": {},
   "source": [
    "# Nipype Interface to BLM denoising\n",
    "\n",
    "This notebooks was used to design the nipype inteface to BLM denoising program available in MIALSRTK.\n",
    "It shows you how to run this interface independently (outside the BIDS App workflow)"
   ]
  },
  {
   "cell_type": "code",
   "execution_count": 28,
   "metadata": {},
   "outputs": [],
   "source": [
    "import os\n",
    "\n",
    "from bids import BIDSLayout\n",
    "\n",
    "from glob import glob\n",
    "\n",
    "from nipype.interfaces.io import BIDSDataGrabber\n",
    "from nipype.pipeline import Node, MapNode, Workflow\n",
    "from nipype.interfaces.utility import Function"
   ]
  },
  {
   "cell_type": "code",
   "execution_count": 29,
   "metadata": {},
   "outputs": [
    {
     "name": "stdout",
     "output_type": "stream",
     "text": [
      "BIDS Layout: .../fetaldata | Subjects: 1 | Sessions: 2 | Runs: 6\n"
     ]
    }
   ],
   "source": [
    "bids_dir = os.path.join('/fetaldata')\n",
    "output_dir = os.path.join('/fetaldata','derivatives','mialsrtk')\n",
    "mask_dir = os.path.join('/fetaldata','derivatives','manual_masks')\n",
    "\n",
    "subject = '01'\n",
    "\n",
    "layout = BIDSLayout(bids_dir,derivatives=mask_dir)\n",
    "print(layout)"
   ]
  },
  {
   "cell_type": "code",
   "execution_count": 23,
   "metadata": {
    "scrolled": true
   },
   "outputs": [
    {
     "name": "stdout",
     "output_type": "stream",
     "text": [
      "Requirement already satisfied: niworkflows in /opt/conda/envs/pymialsrtk-env/lib/python3.7/site-packages (0.10.2)\n",
      "Requirement already satisfied: seaborn in /opt/conda/envs/pymialsrtk-env/lib/python3.7/site-packages (from niworkflows) (0.9.0)\n",
      "Requirement already satisfied: pandas in /opt/conda/envs/pymialsrtk-env/lib/python3.7/site-packages (from niworkflows) (0.25.2)\n",
      "Requirement already satisfied: PyYAML in /opt/conda/envs/pymialsrtk-env/lib/python3.7/site-packages (from niworkflows) (5.1.2)\n",
      "Requirement already satisfied: packaging in /opt/conda/envs/pymialsrtk-env/lib/python3.7/site-packages (from niworkflows) (19.2)\n",
      "Requirement already satisfied: scipy in /opt/conda/envs/pymialsrtk-env/lib/python3.7/site-packages (from niworkflows) (1.3.1)\n",
      "Requirement already satisfied: pybids~=0.9.2 in /opt/conda/envs/pymialsrtk-env/lib/python3.7/site-packages (from niworkflows) (0.9.4)\n",
      "Requirement already satisfied: jinja2 in /opt/conda/envs/pymialsrtk-env/lib/python3.7/site-packages (from niworkflows) (2.10.3)\n",
      "Requirement already satisfied: nilearn!=0.5.0,!=0.5.1,>=0.2.6 in /opt/conda/envs/pymialsrtk-env/lib/python3.7/site-packages (from niworkflows) (0.5.2)\n",
      "Requirement already satisfied: scikit-image in /opt/conda/envs/pymialsrtk-env/lib/python3.7/site-packages (from niworkflows) (0.16.1)\n",
      "Requirement already satisfied: templateflow~=0.4.1 in /opt/conda/envs/pymialsrtk-env/lib/python3.7/site-packages (from niworkflows) (0.4.1)\n",
      "Requirement already satisfied: svgutils in /opt/conda/envs/pymialsrtk-env/lib/python3.7/site-packages (from niworkflows) (0.3.1)\n",
      "Requirement already satisfied: matplotlib>=2.2.0; python_version >= \"3.6\" in /opt/conda/envs/pymialsrtk-env/lib/python3.7/site-packages (from niworkflows) (3.1.1)\n",
      "Requirement already satisfied: nipype>=1.1.6 in /opt/conda/envs/pymialsrtk-env/lib/python3.7/site-packages (from niworkflows) (1.2.0)\n",
      "Requirement already satisfied: scikit-learn>=0.19 in /opt/conda/envs/pymialsrtk-env/lib/python3.7/site-packages (from niworkflows) (0.20.4)\n",
      "Requirement already satisfied: numpy>=1.9.3 in /opt/conda/envs/pymialsrtk-env/lib/python3.7/site-packages (from seaborn->niworkflows) (1.17.2)\n",
      "Requirement already satisfied: pytz>=2017.2 in /opt/conda/envs/pymialsrtk-env/lib/python3.7/site-packages (from pandas->niworkflows) (2019.3)\n",
      "Requirement already satisfied: python-dateutil>=2.6.1 in /opt/conda/envs/pymialsrtk-env/lib/python3.7/site-packages (from pandas->niworkflows) (2.8.0)\n",
      "Requirement already satisfied: six in /opt/conda/envs/pymialsrtk-env/lib/python3.7/site-packages (from packaging->niworkflows) (1.12.0)\n",
      "Requirement already satisfied: pyparsing>=2.0.2 in /opt/conda/envs/pymialsrtk-env/lib/python3.7/site-packages (from packaging->niworkflows) (2.4.2)\n",
      "Requirement already satisfied: sqlalchemy in /opt/conda/envs/pymialsrtk-env/lib/python3.7/site-packages (from pybids~=0.9.2->niworkflows) (1.3.10)\n",
      "Requirement already satisfied: patsy in /opt/conda/envs/pymialsrtk-env/lib/python3.7/site-packages (from pybids~=0.9.2->niworkflows) (0.5.1)\n",
      "Requirement already satisfied: num2words in /opt/conda/envs/pymialsrtk-env/lib/python3.7/site-packages (from pybids~=0.9.2->niworkflows) (0.5.10)\n",
      "Requirement already satisfied: bids-validator in /opt/conda/envs/pymialsrtk-env/lib/python3.7/site-packages (from pybids~=0.9.2->niworkflows) (1.2.4)\n",
      "Requirement already satisfied: nibabel>=2.1 in /opt/conda/envs/pymialsrtk-env/lib/python3.7/site-packages (from pybids~=0.9.2->niworkflows) (2.5.1)\n",
      "Requirement already satisfied: MarkupSafe>=0.23 in /opt/conda/envs/pymialsrtk-env/lib/python3.7/site-packages (from jinja2->niworkflows) (1.1.1)\n",
      "Requirement already satisfied: networkx>=2.0 in /opt/conda/envs/pymialsrtk-env/lib/python3.7/site-packages (from scikit-image->niworkflows) (2.4)\n",
      "Requirement already satisfied: PyWavelets>=0.4.0 in /opt/conda/envs/pymialsrtk-env/lib/python3.7/site-packages (from scikit-image->niworkflows) (1.1.1)\n",
      "Requirement already satisfied: pillow>=4.3.0 in /opt/conda/envs/pymialsrtk-env/lib/python3.7/site-packages (from scikit-image->niworkflows) (6.2.0)\n",
      "Requirement already satisfied: imageio>=2.3.0 in /opt/conda/envs/pymialsrtk-env/lib/python3.7/site-packages (from scikit-image->niworkflows) (2.6.1)\n",
      "Requirement already satisfied: tqdm in /opt/conda/envs/pymialsrtk-env/lib/python3.7/site-packages (from templateflow~=0.4.1->niworkflows) (4.36.1)\n",
      "Requirement already satisfied: requests in /opt/conda/envs/pymialsrtk-env/lib/python3.7/site-packages (from templateflow~=0.4.1->niworkflows) (2.22.0)\n",
      "Requirement already satisfied: lxml in /opt/conda/envs/pymialsrtk-env/lib/python3.7/site-packages (from svgutils->niworkflows) (4.4.1)\n",
      "Requirement already satisfied: cycler>=0.10 in /opt/conda/envs/pymialsrtk-env/lib/python3.7/site-packages (from matplotlib>=2.2.0; python_version >= \"3.6\"->niworkflows) (0.10.0)\n",
      "Requirement already satisfied: kiwisolver>=1.0.1 in /opt/conda/envs/pymialsrtk-env/lib/python3.7/site-packages (from matplotlib>=2.2.0; python_version >= \"3.6\"->niworkflows) (1.1.0)\n",
      "Requirement already satisfied: prov>=1.5.2 in /opt/conda/envs/pymialsrtk-env/lib/python3.7/site-packages (from nipype>=1.1.6->niworkflows) (1.5.3)\n",
      "Requirement already satisfied: pydotplus in /opt/conda/envs/pymialsrtk-env/lib/python3.7/site-packages (from nipype>=1.1.6->niworkflows) (2.0.2)\n",
      "Requirement already satisfied: pydot>=1.2.3 in /opt/conda/envs/pymialsrtk-env/lib/python3.7/site-packages (from nipype>=1.1.6->niworkflows) (1.4.1)\n",
      "Requirement already satisfied: neurdflib in /opt/conda/envs/pymialsrtk-env/lib/python3.7/site-packages (from nipype>=1.1.6->niworkflows) (5.0.0.post1)\n",
      "Requirement already satisfied: funcsigs in /opt/conda/envs/pymialsrtk-env/lib/python3.7/site-packages (from nipype>=1.1.6->niworkflows) (1.0.2)\n",
      "Requirement already satisfied: future>=0.16.0 in /opt/conda/envs/pymialsrtk-env/lib/python3.7/site-packages (from nipype>=1.1.6->niworkflows) (0.18.1)\n",
      "Requirement already satisfied: click>=6.6.0 in /opt/conda/envs/pymialsrtk-env/lib/python3.7/site-packages (from nipype>=1.1.6->niworkflows) (7.0)\n",
      "Requirement already satisfied: traits!=5.0,>=4.6 in /opt/conda/envs/pymialsrtk-env/lib/python3.7/site-packages (from nipype>=1.1.6->niworkflows) (5.1.2)\n",
      "Requirement already satisfied: simplejson>=3.8.0 in /opt/conda/envs/pymialsrtk-env/lib/python3.7/site-packages (from nipype>=1.1.6->niworkflows) (3.16.0)\n",
      "Requirement already satisfied: docopt>=0.6.2 in /opt/conda/envs/pymialsrtk-env/lib/python3.7/site-packages (from num2words->pybids~=0.9.2->niworkflows) (0.6.2)\n",
      "Requirement already satisfied: decorator>=4.3.0 in /opt/conda/envs/pymialsrtk-env/lib/python3.7/site-packages (from networkx>=2.0->scikit-image->niworkflows) (4.4.0)\n",
      "Requirement already satisfied: certifi>=2017.4.17 in /opt/conda/envs/pymialsrtk-env/lib/python3.7/site-packages (from requests->templateflow~=0.4.1->niworkflows) (2019.9.11)\n",
      "Requirement already satisfied: chardet<3.1.0,>=3.0.2 in /opt/conda/envs/pymialsrtk-env/lib/python3.7/site-packages (from requests->templateflow~=0.4.1->niworkflows) (3.0.4)\n",
      "Requirement already satisfied: urllib3!=1.25.0,!=1.25.1,<1.26,>=1.21.1 in /opt/conda/envs/pymialsrtk-env/lib/python3.7/site-packages (from requests->templateflow~=0.4.1->niworkflows) (1.25.6)\n",
      "Requirement already satisfied: idna<2.9,>=2.5 in /opt/conda/envs/pymialsrtk-env/lib/python3.7/site-packages (from requests->templateflow~=0.4.1->niworkflows) (2.8)\n",
      "Requirement already satisfied: setuptools in /opt/conda/envs/pymialsrtk-env/lib/python3.7/site-packages (from kiwisolver>=1.0.1->matplotlib>=2.2.0; python_version >= \"3.6\"->niworkflows) (41.4.0)\n",
      "Requirement already satisfied: rdflib>=4.2.1 in /opt/conda/envs/pymialsrtk-env/lib/python3.7/site-packages (from prov>=1.5.2->nipype>=1.1.6->niworkflows) (4.2.2)\n",
      "Requirement already satisfied: isodate in /opt/conda/envs/pymialsrtk-env/lib/python3.7/site-packages (from neurdflib->nipype>=1.1.6->niworkflows) (0.6.0)\n"
     ]
    }
   ],
   "source": [
    "%%bash\n",
    "pip install niworkflows"
   ]
  },
  {
   "cell_type": "code",
   "execution_count": 24,
   "metadata": {},
   "outputs": [],
   "source": [
    "import subprocess\n",
    "def run(self, command, env={}, cwd=os.getcwd()):\n",
    "    merged_env = os.environ\n",
    "    merged_env.update(env)\n",
    "    process = subprocess.run(command, shell=True,\n",
    "                               env=merged_env, cwd=cwd, capture_output=True)\n",
    "    return process"
   ]
  },
  {
   "cell_type": "code",
   "execution_count": 25,
   "metadata": {},
   "outputs": [],
   "source": [
    "from traits.api import *\n",
    "\n",
    "import nibabel as nib\n",
    "\n",
    "from nipype.utils.filemanip import split_filename\n",
    "from nipype.interfaces.base import traits, isdefined, CommandLine, CommandLineInputSpec,\\\n",
    "    TraitedSpec, File, InputMultiPath, OutputMultiPath, BaseInterface, BaseInterfaceInputSpec\n",
    "\n",
    "from nipype.interfaces.mixins import reporting\n",
    "\n",
    "from niworkflows.interfaces import report_base as nrc\n",
    "from niworkflows.viz.utils import cuts_from_bbox, compose_view, plot_registration, plot_segs\n"
   ]
  },
  {
   "cell_type": "code",
   "execution_count": 26,
   "metadata": {
    "scrolled": true
   },
   "outputs": [],
   "source": [
    "class BtkNLMDenoisingInputSpec(BaseInterfaceInputSpec):\n",
    "    bids_dir = Directory(desc='BIDS root directory',mandatory=True,exists=True)\n",
    "    in_file = File(desc='Input image',mandatory=True)\n",
    "    in_mask = File(desc='Input mask',mandatory=False)\n",
    "    out_postfix = traits.Str(\"_nlm\", usedefault=True)\n",
    "    weight = traits.Float(0.1,desc='NLM weight (0.1 by default)')\n",
    "\n",
    "class BtkNLMDenoisingOutputSpec(TraitedSpec):\n",
    "    out_file = File(desc='Denoised image')\n",
    "\n",
    "class BtkNLMDenoising(BaseInterface):\n",
    "\n",
    "    input_spec = BtkNLMDenoisingInputSpec\n",
    "    output_spec = BtkNLMDenoisingOutputSpec\n",
    "    \n",
    "    def _run_interface(self, runtime): \n",
    "        _, name, ext = split_filename(os.path.abspath(self.inputs.in_file))\n",
    "        out_file = os.path.join(os.getcwd().replace(self.inputs.bids_dir,'/fetaldata'), ''.join((name, self.inputs.out_postfix, ext)))\n",
    "\n",
    "        if self.inputs.in_mask:\n",
    "            cmd = 'btkNLMDenoising -i \"{}\" -o \"{}'.format(self.inputs.in_file,self.inputs.in_mask,out_file,self.inputs.weight)\n",
    "        else:\n",
    "            cmd = 'btkNLMDenoising -i \"{}\" -o \"{}\" -b {}'.format(self.inputs.in_file,out_file,self.inputs.weight)\n",
    "        \n",
    "        try:\n",
    "            print('... cmd: {}'.format(cmd))\n",
    "            run(self, cmd, env={}, cwd=os.path.abspath(self.inputs.bids_dir))\n",
    "        except:\n",
    "            print('Failed')\n",
    "        return runtime\n",
    "\n",
    "    def _list_outputs(self):\n",
    "        outputs = self._outputs().get()\n",
    "        _, name, ext = split_filename(os.path.abspath(self.inputs.in_file))\n",
    "        outputs['out_file'] = os.path.join(os.getcwd().replace(self.inputs.bids_dir,'/fetaldata'), ''.join((name, self.inputs.out_postfix, ext)))\n",
    "        return outputs\n",
    "    \n",
    "class MultipleBtkNLMDenoisingInputSpec(BaseInterfaceInputSpec):\n",
    "    bids_dir = Directory(desc='BIDS root directory',mandatory=True,exists=True)\n",
    "    input_images = InputMultiPath(File(desc='files to be denoised', mandatory = True))\n",
    "    input_masks = InputMultiPath(File(desc='mask of files to be denoised', mandatory = False))\n",
    "    weight = traits.Float(0.1)\n",
    "    out_postfix = traits.Str(\"_nlm\", usedefault=True)\n",
    "    \n",
    "class MultipleBtkNLMDenoisingOutputSpec(TraitedSpec):\n",
    "    output_images = OutputMultiPath(File())\n",
    "\n",
    "class MultipleBtkNLMDenoising(BaseInterface):\n",
    "    input_spec = MultipleBtkNLMDenoisingInputSpec\n",
    "    output_spec = MultipleBtkNLMDenoisingOutputSpec\n",
    "\n",
    "    def _run_interface(self, runtime):\n",
    "        if len(self.inputs.input_images)>0:\n",
    "            for input_image, input_mask in zip(self.inputs.input_images,self.inputs.input_masks):\n",
    "                ax = BtkNLMDenoising(bids_dir = self.inputs.bids_dir, in_file = input_image, in_mask = input_mask, out_postfix=self.inputs.out_postfix, weight = self.inputs.weight)\n",
    "                ax.run()\n",
    "        else:\n",
    "            for input_image in self.inputs.input_images:\n",
    "                ax = BtkNLMDenoising(bids_dir = self.inputs.bids_dir, in_file = input_image, out_postfix=self.inputs.out_postfix, weight = self.inputs.weight)\n",
    "                ax.run()\n",
    "        return runtime\n",
    "\n",
    "    def _list_outputs(self):\n",
    "        outputs = self._outputs().get()\n",
    "        outputs['output_images'] = glob(os.path.abspath(\"*.nii.gz\"))\n",
    "        return outputs"
   ]
  },
  {
   "cell_type": "code",
   "execution_count": 27,
   "metadata": {},
   "outputs": [
    {
     "name": "stdout",
     "output_type": "stream",
     "text": [
      "Check for /fetaldata/derivatives/mialsrtk/dataset_description.json\n",
      "File /fetaldata/derivatives/mialsrtk/dataset_description.json was created\n",
      "191021-13:39:18,640 nipype.workflow INFO:\n",
      "\t Workflow nlm_denoising settings: ['check', 'execution', 'logging', 'monitoring']\n",
      "191021-13:39:18,644 nipype.workflow INFO:\n",
      "\t Running serially.\n",
      "191021-13:39:18,645 nipype.workflow INFO:\n",
      "\t [Node] Setting-up \"nlm_denoising.bids_grabber\" in \"/fetaldata/derivatives/mialsrtk/sub-01/nipype/nlm_denoising/bids_grabber\".\n",
      "191021-13:39:18,648 nipype.workflow INFO:\n",
      "\t [Node] Running \"bids_grabber\" (\"nipype.interfaces.io.BIDSDataGrabber\")\n"
     ]
    },
    {
     "name": "stderr",
     "output_type": "stream",
     "text": [
      "/opt/conda/envs/pymialsrtk-env/lib/python3.7/site-packages/bids/layout/layout.py:659: UserWarning: In pybids 0.9.0, the 'extensions' filter was deprecated in favor of 'extension'. The former will stop working in 0.11.0.\n",
      "  (False) or regex search (True) when comparing the query string\n"
     ]
    },
    {
     "name": "stdout",
     "output_type": "stream",
     "text": [
      "191021-13:39:19,833 nipype.workflow INFO:\n",
      "\t [Node] Finished \"nlm_denoising.bids_grabber\".\n",
      "191021-13:39:19,834 nipype.workflow INFO:\n",
      "\t [Node] Setting-up \"nlm_denoising.nlmDenoise\" in \"/fetaldata/derivatives/mialsrtk/sub-01/nipype/nlm_denoising/nlmDenoise\".\n",
      "191021-13:39:19,839 nipype.workflow INFO:\n",
      "\t [Node] Running \"nlmDenoise\" (\"__main__.MultipleBtkNLMDenoising\")\n",
      "... cmd: mialsrtkOrientImage -i \"/fetaldata/sub-01/anat/sub-01_run-1_T2w.nii.gz\" -o \"/fetaldata/derivatives/manual_masks/sub-01/anat/sub-01_run-1_T2w_desc-brain_mask.nii.gz\n",
      "... cmd: mialsrtkOrientImage -i \"/fetaldata/sub-01/anat/sub-01_run-2_T2w.nii.gz\" -o \"/fetaldata/derivatives/manual_masks/sub-01/anat/sub-01_run-2_T2w_desc-brain_mask.nii.gz\n",
      "... cmd: mialsrtkOrientImage -i \"/fetaldata/sub-01/anat/sub-01_run-3_T2w.nii.gz\" -o \"/fetaldata/derivatives/manual_masks/sub-01/anat/sub-01_run-3_T2w_desc-brain_mask.nii.gz\n",
      "... cmd: mialsrtkOrientImage -i \"/fetaldata/sub-01/anat/sub-01_run-4_T2w.nii.gz\" -o \"/fetaldata/derivatives/manual_masks/sub-01/anat/sub-01_run-4_T2w_desc-brain_mask.nii.gz\n",
      "... cmd: mialsrtkOrientImage -i \"/fetaldata/sub-01/anat/sub-01_run-5_T2w.nii.gz\" -o \"/fetaldata/derivatives/manual_masks/sub-01/anat/sub-01_run-5_T2w_desc-brain_mask.nii.gz\n",
      "... cmd: mialsrtkOrientImage -i \"/fetaldata/sub-01/anat/sub-01_run-6_T2w.nii.gz\" -o \"/fetaldata/derivatives/manual_masks/sub-01/anat/sub-01_run-6_T2w_desc-brain_mask.nii.gz\n",
      "191021-13:39:19,917 nipype.workflow INFO:\n",
      "\t [Node] Finished \"nlm_denoising.nlmDenoise\".\n"
     ]
    }
   ],
   "source": [
    "#Check if mandatory derivatives dataset_description.json exists in derivatives/mialsrtk.\n",
    "# If not, it is created before running the workflow, otherwise BIDSDataGrabber is not happy and raises an error. \n",
    "\n",
    "mialsrtk_dataset_description_json = os.path.join(output_dir,'dataset_description.json')\n",
    "\n",
    "print('Check for {}'.format(mialsrtk_dataset_description_json))\n",
    "if not os.access(mialsrtk_dataset_description_json, os.R_OK):\n",
    "    import json\n",
    "    data = {'PipelineDescription':{'Name': 'MIAL Super-Resolution ToolKit', \n",
    "                                'Version': 'v2.0.0-beta', \n",
    "                                'CodeURL': 'https://github.com/sebastientourbier/mialsuperresolutiontoolkit'\n",
    "                                  },\n",
    "            'Name': 'MIAL Super-Resolution ToolKit',\n",
    "            'BIDSVersion': '1.2.0'\n",
    "           }\n",
    "    os.makedirs(output_dir)\n",
    "    with open(mialsrtk_dataset_description_json, 'w+') as outfile:\n",
    "        json.dump(data, outfile, indent=4)\n",
    "    print('File {} was created'.format(mialsrtk_dataset_description_json))\n",
    "else:\n",
    "    print('File {} already exists'.format(mialsrtk_dataset_description_json))\n",
    "    \n",
    "\n",
    "wf = Workflow(name=\"nlm_denoising\",base_dir=os.path.join(output_dir,'sub-{}'.format(subject),'nipype'))\n",
    "\n",
    "bg = Node(interface=BIDSDataGrabber(infields = ['subject']),name='bids_grabber')\n",
    "bg.inputs.base_dir = bids_dir\n",
    "bg.inputs.subject = subject\n",
    "bg.inputs.index_derivatives = True\n",
    "bg.inputs.raise_on_empty = False\n",
    "bg.inputs.output_query = {'T2ws': dict(suffix='T2w',datatype='anat',extensions=[\".nii\",\".nii.gz\"]),\n",
    "                          'masks': dict(suffix='mask',datatype='anat',extensions=[\".nii\",\".nii.gz\"])}\n",
    "\n",
    "nlmDenoise = Node(interface=MultipleBtkNLMDenoising(),name='nlmDenoise')\n",
    "nlmDenoise.inputs.bids_dir = bids_dir\n",
    "nlmDenoise.inputs.weight = 1\n",
    "                  \n",
    "wf.connect(bg, \"T2ws\", nlmDenoise, \"input_images\")\n",
    "wf.connect(bg, \"masks\", nlmDenoise, \"input_masks\")\n",
    "\n",
    "res = wf.run()"
   ]
  },
  {
   "cell_type": "code",
   "execution_count": null,
   "metadata": {},
   "outputs": [],
   "source": [
    "wf.write_graph()"
   ]
  },
  {
   "cell_type": "markdown",
   "metadata": {},
   "source": [
    "## When this works, the implemented interfaces should be copied to the module pymialsrtk.interfaces.preprocess\n",
    "\n",
    "\n",
    "The next cells should be executed after the copy is done. Please restart and clear the outputs to make sure to start from a clean environment."
   ]
  },
  {
   "cell_type": "markdown",
   "metadata": {},
   "source": [
    "### Installation of pymialsrtk as python modules"
   ]
  },
  {
   "cell_type": "code",
   "execution_count": 4,
   "metadata": {},
   "outputs": [
    {
     "name": "stdout",
     "output_type": "stream",
     "text": [
      "running install\n",
      "running build\n",
      "running build_py\n",
      "copying pymialsrtk/interfaces/utils.py -> build/lib/pymialsrtk/interfaces\n",
      "running build_scripts\n",
      "running install_lib\n",
      "copying build/lib/pymialsrtk/interfaces/utils.py -> /opt/conda/envs/pymialsrtk-env/lib/python3.7/site-packages/pymialsrtk/interfaces\n",
      "byte-compiling /opt/conda/envs/pymialsrtk-env/lib/python3.7/site-packages/pymialsrtk/interfaces/utils.py to utils.cpython-37.pyc\n",
      "running install_scripts\n",
      "changing mode of /opt/conda/envs/pymialsrtk-env/bin/superresolution to 755\n",
      "running install_egg_info\n",
      "Removing /opt/conda/envs/pymialsrtk-env/lib/python3.7/site-packages/pymialsrtk-2.0.0_beta_20190906-py3.7.egg-info\n",
      "Writing /opt/conda/envs/pymialsrtk-env/lib/python3.7/site-packages/pymialsrtk-2.0.0_beta_20190906-py3.7.egg-info\n"
     ]
    }
   ],
   "source": [
    "%%bash\n",
    "# Go to folder containing the source code\n",
    "cd /app/mialsuperresolutiontoolkit/\n",
    "# Install the pymialsrtk package inside the python/conda environment\n",
    "python setup.py install"
   ]
  },
  {
   "cell_type": "markdown",
   "metadata": {},
   "source": [
    "### Example of pipeline importing the interface MultipleBtkNLMDenoising from the installed module `pymialsrtk.interfaces.preprocess`"
   ]
  },
  {
   "cell_type": "code",
   "execution_count": 5,
   "metadata": {},
   "outputs": [
    {
     "name": "stdout",
     "output_type": "stream",
     "text": [
      "Check for /fetaldata/derivatives/mialsrtk/dataset_description.json\n",
      "File /fetaldata/derivatives/mialsrtk/dataset_description.json was created\n",
      "190917-14:24:44,95 nipype.workflow INFO:\n",
      "\t Workflow nlm_denoising2 settings: ['check', 'execution', 'logging', 'monitoring']\n",
      "190917-14:24:44,159 nipype.workflow INFO:\n",
      "\t Running serially.\n",
      "190917-14:24:44,162 nipype.workflow INFO:\n",
      "\t [Node] Setting-up \"nlm_denoising2.bids_grabber\" in \"/fetaldata/derivatives/mialsrtk/sub-01/nipype/nlm_denoising2/bids_grabber\".\n",
      "190917-14:24:44,213 nipype.workflow INFO:\n",
      "\t [Node] Running \"bids_grabber\" (\"nipype.interfaces.io.BIDSDataGrabber\")\n"
     ]
    },
    {
     "name": "stderr",
     "output_type": "stream",
     "text": [
      "/opt/conda/envs/pymialsrtk-env/lib/python3.7/site-packages/bids/layout/layout.py:659: UserWarning: In pybids 0.9.0, the 'extensions' filter was deprecated in favor of 'extension'. The former will stop working in 0.11.0.\n",
      "  warnings.warn(\"In pybids 0.9.0, the 'extensions' filter was \"\n"
     ]
    },
    {
     "name": "stdout",
     "output_type": "stream",
     "text": [
      "190917-14:24:46,751 nipype.workflow INFO:\n",
      "\t [Node] Finished \"nlm_denoising2.bids_grabber\".\n",
      "190917-14:24:46,754 nipype.workflow INFO:\n",
      "\t [Node] Setting-up \"nlm_denoising2.nlmDenoise\" in \"/fetaldata/derivatives/mialsrtk/sub-01/nipype/nlm_denoising2/nlmDenoise\".\n",
      "190917-14:24:46,894 nipype.workflow INFO:\n",
      "\t [Node] Running \"nlmDenoise\" (\"pymialsrtk.interfaces.preprocess.MultipleBtkNLMDenoising\")\n",
      "out_file: /fetaldata/sub-01_run-1_T2w_nlm.nii.gz\n",
      "... cmd: btkNLMDenoising -i \"/fetaldata/sub-01/anat/sub-01_run-1_T2w.nii.gz\" -m \"/fetaldata/derivatives/manual_masks/sub-01/anat/sub-01_run-1_T2w_desc-brain_mask.nii.gz\" -o \"/fetaldata/sub-01_run-1_T2w_nlm.nii.gz\" -b 1.0\n",
      "out_file: /fetaldata/sub-01_run-2_T2w_nlm.nii.gz\n",
      "... cmd: btkNLMDenoising -i \"/fetaldata/sub-01/anat/sub-01_run-2_T2w.nii.gz\" -m \"/fetaldata/derivatives/manual_masks/sub-01/anat/sub-01_run-2_T2w_desc-brain_mask.nii.gz\" -o \"/fetaldata/sub-01_run-2_T2w_nlm.nii.gz\" -b 1.0\n",
      "out_file: /fetaldata/sub-01_run-3_T2w_nlm.nii.gz\n",
      "... cmd: btkNLMDenoising -i \"/fetaldata/sub-01/anat/sub-01_run-3_T2w.nii.gz\" -m \"/fetaldata/derivatives/manual_masks/sub-01/anat/sub-01_run-3_T2w_desc-brain_mask.nii.gz\" -o \"/fetaldata/sub-01_run-3_T2w_nlm.nii.gz\" -b 1.0\n",
      "out_file: /fetaldata/sub-01_run-4_T2w_nlm.nii.gz\n",
      "... cmd: btkNLMDenoising -i \"/fetaldata/sub-01/anat/sub-01_run-4_T2w.nii.gz\" -m \"/fetaldata/derivatives/manual_masks/sub-01/anat/sub-01_run-4_T2w_desc-brain_mask.nii.gz\" -o \"/fetaldata/sub-01_run-4_T2w_nlm.nii.gz\" -b 1.0\n",
      "out_file: /fetaldata/sub-01_run-5_T2w_nlm.nii.gz\n",
      "... cmd: btkNLMDenoising -i \"/fetaldata/sub-01/anat/sub-01_run-5_T2w.nii.gz\" -m \"/fetaldata/derivatives/manual_masks/sub-01/anat/sub-01_run-5_T2w_desc-brain_mask.nii.gz\" -o \"/fetaldata/sub-01_run-5_T2w_nlm.nii.gz\" -b 1.0\n",
      "out_file: /fetaldata/sub-01_run-6_T2w_nlm.nii.gz\n",
      "... cmd: btkNLMDenoising -i \"/fetaldata/sub-01/anat/sub-01_run-6_T2w.nii.gz\" -m \"/fetaldata/derivatives/manual_masks/sub-01/anat/sub-01_run-6_T2w_desc-brain_mask.nii.gz\" -o \"/fetaldata/sub-01_run-6_T2w_nlm.nii.gz\" -b 1.0\n",
      "190917-14:24:57,280 nipype.workflow INFO:\n",
      "\t [Node] Finished \"nlm_denoising2.nlmDenoise\".\n",
      "190917-14:24:57,462 nipype.workflow INFO:\n",
      "\t Generated workflow graph: /fetaldata/derivatives/mialsrtk/sub-01/nipype/nlm_denoising2/graph.png (graph2use=hierarchical, simple_form=True).\n"
     ]
    }
   ],
   "source": [
    "import os\n",
    "import json\n",
    "\n",
    "# Imports from nipype\n",
    "from nipype.interfaces.io import BIDSDataGrabber\n",
    "from nipype.pipeline import Node, Workflow\n",
    "\n",
    "# Import the implemented interface from pymialsrtk\n",
    "import pymialsrtk.interfaces.preprocess as preprocess\n",
    "\n",
    "# Set different variables (defined in cell 2) such that we do not have to rerun cell 2\n",
    "bids_dir = os.path.join('/fetaldata')\n",
    "output_dir = os.path.join('/fetaldata','derivatives','mialsrtk')\n",
    "mask_dir = os.path.join('/fetaldata','derivatives','manual_masks')\n",
    "subject = '01'\n",
    "\n",
    "#Make sure we start from empty derivatives\n",
    "import shutil\n",
    "shutil.rmtree(output_dir)\n",
    "\n",
    "#Check if mandatory derivatives dataset_description.json exists in derivatives/mialsrtk.\n",
    "# If not, it is created before running the workflow, otherwise BIDSDataGrabber is not happy and raises an error. \n",
    "\n",
    "mialsrtk_dataset_description_json = os.path.join(output_dir,'dataset_description.json')\n",
    "\n",
    "print('Check for {}'.format(mialsrtk_dataset_description_json))\n",
    "if not os.access(mialsrtk_dataset_description_json, os.R_OK):\n",
    "    data = {'PipelineDescription':{'Name': 'MIAL Super-Resolution ToolKit', \n",
    "                                'Version': 'v2.0.0-beta', \n",
    "                                'CodeURL': 'https://github.com/sebastientourbier/mialsuperresolutiontoolkit'\n",
    "                                  },\n",
    "            'Name': 'MIAL Super-Resolution ToolKit',\n",
    "            'BIDSVersion': '1.2.0'\n",
    "           }\n",
    "    os.makedirs(output_dir)\n",
    "    with open(mialsrtk_dataset_description_json, 'w+') as outfile:\n",
    "        json.dump(data, outfile, indent=4)\n",
    "    print('File {} was created'.format(mialsrtk_dataset_description_json))\n",
    "else:\n",
    "    print('File {} already exists'.format(mialsrtk_dataset_description_json))\n",
    "\n",
    "# Construct the workflow\n",
    "wf2 = Workflow(name=\"nlm_denoising2\",base_dir=os.path.join(output_dir,'sub-{}'.format(subject),'nipype'))\n",
    "\n",
    "bg2 = Node(interface=BIDSDataGrabber(infields = ['subject']),name='bids_grabber')\n",
    "bg2.inputs.base_dir = bids_dir\n",
    "bg2.inputs.subject = subject\n",
    "bg2.inputs.index_derivatives = True\n",
    "bg2.inputs.raise_on_empty = False\n",
    "bg2.inputs.output_query = {'T2ws': dict(suffix='T2w',datatype='anat',extensions=[\".nii\",\".nii.gz\"]),\n",
    "                          'masks': dict(suffix='mask',datatype='anat',extensions=[\".nii\",\".nii.gz\"])}\n",
    "\n",
    "nlmDenoise2 = Node(interface=preprocess.MultipleBtkNLMDenoising(),name='nlmDenoise')\n",
    "nlmDenoise2.inputs.bids_dir = bids_dir\n",
    "nlmDenoise2.inputs.weight = 1\n",
    "\n",
    "# Connect outputs of bids grabber interface to inputs of NLM denoise interface \n",
    "wf2.connect(bg2, \"T2ws\", nlmDenoise2, \"input_images\")\n",
    "wf2.connect(bg2, \"masks\", nlmDenoise2, \"input_masks\")\n",
    "\n",
    "# Run the workflow/pipeline\n",
    "res2 = wf2.run()\n",
    "graph_img = wf2.write_graph()"
   ]
  },
  {
   "cell_type": "markdown",
   "metadata": {},
   "source": [
    "### Display the graph of the processing workflow"
   ]
  },
  {
   "cell_type": "code",
   "execution_count": 6,
   "metadata": {},
   "outputs": [
    {
     "data": {
      "image/png": "[encoded data removed]",
      "text/plain": [
       "<IPython.core.display.Image object>"
      ]
     },
     "metadata": {},
     "output_type": "display_data"
    }
   ],
   "source": [
    "from IPython.display import Image, display\n",
    "display(Image(filename=graph_img))"
   ]
  },
  {
   "cell_type": "markdown",
   "metadata": {},
   "source": [
    "### Content of `pymialsrtk/interfaces/preprocess.py`"
   ]
  },
  {
   "cell_type": "code",
   "execution_count": 10,
   "metadata": {},
   "outputs": [],
   "source": [
    "# %load '/opt/conda/envs/pymialsrtk-env/lib/python3.7/site-packages/pymialsrtk/interfaces/preprocess.py'\n",
    "# Copyright © 2016-2019 Medical Image Analysis Laboratory, University Hospital Center and University of Lausanne (UNIL-CHUV), Switzerland\n",
    "#\n",
    "#  This software is distributed under the open-source license Modified BSD.\n",
    "\n",
    "\"\"\" PyMIALSRTK preprocessing interfaces\n",
    "\"\"\"\n",
    "\n",
    "import os\n",
    "\n",
    "from glob import glob\n",
    "\n",
    "from traits.api import *\n",
    "\n",
    "import nibabel as nib\n",
    "\n",
    "from nipype.utils.filemanip import split_filename\n",
    "from nipype.interfaces.base import traits, isdefined, CommandLine, CommandLineInputSpec,\\\n",
    "    TraitedSpec, File, InputMultiPath, OutputMultiPath, BaseInterface, BaseInterfaceInputSpec\n",
    "\n",
    "from pymialsrtk.interfaces.utils import run\n",
    "\n",
    "class BtkNLMDenoisingInputSpec(BaseInterfaceInputSpec):\n",
    "    bids_dir = Directory(desc='BIDS root directory',mandatory=True,exists=True)\n",
    "    in_file = File(desc='Input image',mandatory=True)\n",
    "    in_mask = File(desc='Input mask',mandatory=False)\n",
    "    out_postfix = traits.Str(\"_nlm\", usedefault=True)\n",
    "    weight = traits.Float(0.1,desc='NLM weight (0.1 by default)')\n",
    "\n",
    "class BtkNLMDenoisingOutputSpec(TraitedSpec):\n",
    "    out_file = File(desc='Denoised image')\n",
    "\n",
    "class BtkNLMDenoising(BaseInterface):\n",
    "\n",
    "    input_spec = BtkNLMDenoisingInputSpec\n",
    "    output_spec = BtkNLMDenoisingOutputSpec\n",
    "    \n",
    "    def _run_interface(self, runtime): \n",
    "        _, name, ext = split_filename(os.path.abspath(self.inputs.in_file))\n",
    "        out_file = os.path.join(self.inputs.bids_dir, ''.join((name, self.inputs.out_postfix, ext)))\n",
    "        print('out_file: {}'.format(out_file))\n",
    "\n",
    "        if self.inputs.in_mask:\n",
    "            cmd = 'btkNLMDenoising -i \"{}\" -m \"{}\" -o \"{}\" -b {}'.format(self.inputs.in_file,self.inputs.in_mask,out_file,self.inputs.weight)\n",
    "        else:\n",
    "            cmd = 'btkNLMDenoising -i \"{}\" -o \"{}\" -b {}'.format(self.inputs.in_file,out_file,self.inputs.weight)\n",
    "        \n",
    "        try:\n",
    "            print('... cmd: {}'.format(cmd))\n",
    "            run(self, cmd, env={}, cwd=os.path.abspath(self.inputs.bids_dir))\n",
    "        except:\n",
    "            print('Failed')\n",
    "        return runtime\n",
    "\n",
    "    def _list_outputs(self):\n",
    "        outputs = self._outputs().get()\n",
    "        _, name, ext = split_filename(os.path.abspath(self.inputs.in_file))\n",
    "        outputs['out_file'] = os.path.join(self.inputs.bids_dir, ''.join((name, self.inputs.out_postfix, ext)))\n",
    "        return outputs\n",
    "\n",
    "class MultipleBtkNLMDenoisingInputSpec(BaseInterfaceInputSpec):\n",
    "    bids_dir = Directory(desc='BIDS root directory',mandatory=True,exists=True)\n",
    "    input_images = InputMultiPath(File(desc='files to be denoised', mandatory = True))\n",
    "    input_masks = InputMultiPath(File(desc='mask of files to be denoised', mandatory = False))\n",
    "    weight = traits.Float(0.1)\n",
    "    out_postfix = traits.Str(\"_nlm\", usedefault=True)\n",
    "    \n",
    "class MultipleBtkNLMDenoisingOutputSpec(TraitedSpec):\n",
    "    output_images = OutputMultiPath(File())\n",
    "\n",
    "class MultipleBtkNLMDenoising(BaseInterface):\n",
    "    input_spec = MultipleBtkNLMDenoisingInputSpec\n",
    "    output_spec = MultipleBtkNLMDenoisingOutputSpec\n",
    "\n",
    "    def _run_interface(self, runtime):\n",
    "        if len(self.inputs.input_images)>0:\n",
    "            for input_image, input_mask in zip(self.inputs.input_images,self.inputs.input_masks):\n",
    "                ax = BtkNLMDenoising(bids_dir = self.inputs.bids_dir, in_file = input_image, in_mask = input_mask, out_postfix=self.inputs.out_postfix, weight = self.inputs.weight)\n",
    "                ax.run()\n",
    "        else:\n",
    "            for input_image in self.inputs.input_images:\n",
    "                ax = BtkNLMDenoising(bids_dir = self.inputs.bids_dir, in_file = input_image, out_postfix=self.inputs.out_postfix, weight = self.inputs.weight)\n",
    "                ax.run()\n",
    "        return runtime\n",
    "\n",
    "    def _list_outputs(self):\n",
    "        outputs = self._outputs().get()\n",
    "        outputs['output_images'] = glob(os.path.abspath(\"*.nii.gz\"))\n",
    "        return outputs"
   ]
  }
 ],
 "metadata": {
  "kernelspec": {
   "display_name": "Python 3",
   "language": "python",
   "name": "python3"
  },
  "language_info": {
   "codemirror_mode": {
    "name": "ipython",
    "version": 3
   },
   "file_extension": ".py",
   "mimetype": "text/x-python",
   "name": "python",
   "nbconvert_exporter": "python",
   "pygments_lexer": "ipython3",
   "version": "3.7.2"
  }
 },
 "nbformat": 4,
 "nbformat_minor": 2
}
