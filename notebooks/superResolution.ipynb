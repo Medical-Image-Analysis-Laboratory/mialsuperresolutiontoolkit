{
 "cells": [
  {
   "cell_type": "code",
   "execution_count": 47,
   "metadata": {},
   "outputs": [],
   "source": [
    "import os\n",
    "\n",
    "from bids import BIDSLayout\n",
    "\n",
    "from glob import glob\n",
    "\n",
    "from nipype.interfaces.io import BIDSDataGrabber\n",
    "from nipype.pipeline import Node, MapNode, Workflow\n",
    "from nipype.interfaces.utility import Function"
   ]
  },
  {
   "cell_type": "code",
   "execution_count": 48,
   "metadata": {},
   "outputs": [
    {
     "name": "stdout",
     "output_type": "stream",
     "text": [
      "BIDS Layout: .../fetaldata | Subjects: 1 | Sessions: 0 | Runs: 6\n"
     ]
    }
   ],
   "source": [
    "bids_dir = os.path.join('/fetaldata')\n",
    "output_dir = os.path.join('/fetaldata','derivatives','mialsrtk')\n",
    "mask_dir = os.path.join('/fetaldata','derivatives','manual_masks')\n",
    "\n",
    "subject = '01'\n",
    "\n",
    "layout = BIDSLayout(bids_dir,derivatives=mask_dir)\n",
    "print(layout)\n",
    "\n",
    "import shutil\n",
    "shutil.rmtree(output_dir)"
   ]
  },
  {
   "cell_type": "code",
   "execution_count": 49,
   "metadata": {},
   "outputs": [],
   "source": [
    "import subprocess\n",
    "def run(self, command, env={}, cwd=os.getcwd()):\n",
    "    merged_env = os.environ\n",
    "    merged_env.update(env)\n",
    "    process = subprocess.run(command, shell=True,\n",
    "                               env=merged_env, cwd=cwd, capture_output=True)\n",
    "    return process"
   ]
  },
  {
   "cell_type": "code",
   "execution_count": 50,
   "metadata": {},
   "outputs": [],
   "source": [
    "from traits.api import *\n",
    "\n",
    "import nibabel as nib\n",
    "\n",
    "from nipype.utils.filemanip import split_filename\n",
    "from nipype.interfaces.base import traits, isdefined, CommandLine, CommandLineInputSpec,\\\n",
    "    TraitedSpec, File, InputMultiPath, OutputMultiPath, BaseInterface, BaseInterfaceInputSpec\n",
    "\n",
    "from nipype.interfaces.mixins import reporting\n",
    "\n"
   ]
  },
  {
   "cell_type": "code",
   "execution_count": 52,
   "metadata": {},
   "outputs": [],
   "source": [
    "class MialsrtkTVSuperResolutionInputSpec(BaseInterfaceInputSpec):\n",
    "    bids_dir = Directory(desc='BIDS root directory',mandatory=True,exists=True)\n",
    "    in_file = File(desc='Input image',mandatory=True)\n",
    "    in_mask = File(desc='Input mask',mandatory=False)\n",
    "    out_postfix = traits.Str(\"_SR\", usedefault=True)\n",
    "    debluring = traits.Bool(False, usedefault=True)\n",
    "\n",
    "class MialsrtkTVSuperResolutionOutputSpec(TraitedSpec):\n",
    "    out_file = File(desc='SR image')\n",
    "\n",
    "class MialsrtkTVSuperResolution(BaseInterface):\n",
    "\n",
    "    input_spec = MialsrtkTVSuperResolutionInputSpec\n",
    "    output_spec = MialsrtkTVSuperResolutionOutputSpec\n",
    "    \n",
    "    def _run_interface(self, runtime): \n",
    "        _, name, ext = split_filename(os.path.abspath(self.inputs.in_file))\n",
    "        out_file = os.path.join(os.getcwd().replace(self.inputs.bids_dir,'/fetaldata'), ''.join((name, self.inputs.out_postfix, ext)))\n",
    "        \n",
    "        if self.inputs.in_mask:\n",
    "            cmd = 'mialsrtkTVSuperResolution -i \"{}\" -o \"{}\" -m \"{}\" --debluring {}'.format(self.inputs.in_file,out_file,self.inputs.in_mask,self.inputs.debluring)\n",
    "        else:\n",
    "            cmd = 'mialsrtkTVSuperResolution -i \"{}\" -o \"{}\" --debluring {}'.format(self.inputs.in_file,out_file,self.inputs.debluring)\n",
    "        \n",
    "        try:\n",
    "            print('... cmd: {}'.format(cmd))\n",
    "            run(self, cmd, env={}, cwd=os.path.abspath(self.inputs.bids_dir))\n",
    "        except:\n",
    "            print('Failed')\n",
    "        return runtime\n",
    "\n",
    "    def _list_outputs(self):\n",
    "        outputs = self._outputs().get()\n",
    "        _, name, ext = split_filename(os.path.abspath(self.inputs.in_file))\n",
    "        outputs['out_file'] = os.path.join(os.getcwd().replace(self.inputs.bids_dir,'/fetaldata'), ''.join((name, self.inputs.out_postfix, ext)))\n",
    "        return outputs\n",
    "    \n",
    "class MultipleMialsrtkTVSuperResolutionInputSpec(BaseInterfaceInputSpec):\n",
    "    bids_dir = Directory(desc='BIDS root directory',mandatory=True,exists=True)\n",
    "    input_images = InputMultiPath(File(desc='files to be SR', mandatory = True))\n",
    "    input_masks = InputMultiPath(File(desc='mask of files to be SR', mandatory = False))\n",
    "    debluring = traits.Bool(False)\n",
    "    out_postfix = traits.Str(\"_SR\", usedefault=True)\n",
    "    \n",
    "class MultipleMialsrtkTVSuperResolutionOutputSpec(TraitedSpec):\n",
    "    output_images = OutputMultiPath(File())\n",
    "\n",
    "class MultipleMialsrtkTVSuperResolution(BaseInterface):\n",
    "    input_spec = MultipleMialsrtkTVSuperResolutionInputSpec\n",
    "    output_spec = MultipleMialsrtkTVSuperResolutionOutputSpec\n",
    "\n",
    "    def _run_interface(self, runtime):\n",
    "        if len(self.inputs.input_images)>0:\n",
    "            for input_image, input_mask in zip(self.inputs.input_images,self.inputs.input_masks):\n",
    "                ax = MialsrtkTVSuperResolution(bids_dir = self.inputs.bids_dir, in_file = input_image, in_mask = input_mask, out_postfix=self.inputs.out_postfix, debluring = self.inputs.debluring)\n",
    "                ax.run()\n",
    "        else:\n",
    "            for input_image in self.inputs.input_images:\n",
    "                ax = MialsrtkTVSuperResolution(bids_dir = self.inputs.bids_dir, in_file = input_image, out_postfix=self.inputs.out_postfix, debluring = self.inputs.debluring)\n",
    "                ax.run()\n",
    "        return runtime\n",
    "\n",
    "    def _list_outputs(self):\n",
    "        outputs = self._outputs().get()\n",
    "        outputs['output_images'] = glob(os.path.abspath(\"*.nii.gz\"))\n",
    "        return outputs"
   ]
  },
  {
   "cell_type": "code",
   "execution_count": 53,
   "metadata": {
    "scrolled": true
   },
   "outputs": [
    {
     "name": "stdout",
     "output_type": "stream",
     "text": [
      "Check for /fetaldata/derivatives/mialsrtk/dataset_description.json\n",
      "File /fetaldata/derivatives/mialsrtk/dataset_description.json was created\n",
      "191023-17:39:25,45 nipype.workflow INFO:\n",
      "\t Workflow image_SR settings: ['check', 'execution', 'logging', 'monitoring']\n",
      "191023-17:39:25,50 nipype.workflow INFO:\n",
      "\t Running serially.\n",
      "191023-17:39:25,51 nipype.workflow INFO:\n",
      "\t [Node] Setting-up \"image_SR.bids_grabber\" in \"/fetaldata/derivatives/mialsrtk/sub-01/nipype/image_SR/bids_grabber\".\n",
      "191023-17:39:25,55 nipype.workflow INFO:\n",
      "\t [Node] Running \"bids_grabber\" (\"nipype.interfaces.io.BIDSDataGrabber\")\n"
     ]
    },
    {
     "name": "stderr",
     "output_type": "stream",
     "text": [
      "/opt/conda/envs/pymialsrtk-env/lib/python3.7/site-packages/bids/layout/layout.py:690: UserWarning: In pybids 0.9.0, the 'extensions' filter was deprecated in favor of 'extension'. The former will stop working in 0.11.0.\n",
      "  warnings.warn(\"In pybids 0.9.0, the 'extensions' filter was \"\n"
     ]
    },
    {
     "name": "stdout",
     "output_type": "stream",
     "text": [
      "191023-17:39:25,980 nipype.workflow INFO:\n",
      "\t [Node] Finished \"image_SR.bids_grabber\".\n",
      "191023-17:39:25,981 nipype.workflow INFO:\n",
      "\t [Node] Setting-up \"image_SR.image_SR\" in \"/fetaldata/derivatives/mialsrtk/sub-01/nipype/image_SR/image_SR\".\n",
      "191023-17:39:25,985 nipype.workflow INFO:\n",
      "\t [Node] Running \"image_SR\" (\"__main__.MultipleMialsrtkTVSuperResolution\")\n",
      "... cmd: mialsrtkTVSuperResolution -i \"/fetaldata/sub-01/anat/sub-01_run-1_T2w.nii.gz\" -o \"/fetaldata/derivatives/mialsrtk/sub-01/nipype/image_SR/image_SR/sub-01_run-1_T2w_SR.nii.gz\" -m \"/fetaldata/derivatives/manual_masks/sub-01/anat/sub-01_run-1_T2w_desc-brain_mask.nii.gz\" --debluring False\n",
      "... cmd: mialsrtkTVSuperResolution -i \"/fetaldata/sub-01/anat/sub-01_run-2_T2w.nii.gz\" -o \"/fetaldata/derivatives/mialsrtk/sub-01/nipype/image_SR/image_SR/sub-01_run-2_T2w_SR.nii.gz\" -m \"/fetaldata/derivatives/manual_masks/sub-01/anat/sub-01_run-2_T2w_desc-brain_mask.nii.gz\" --debluring False\n",
      "... cmd: mialsrtkTVSuperResolution -i \"/fetaldata/sub-01/anat/sub-01_run-3_T2w.nii.gz\" -o \"/fetaldata/derivatives/mialsrtk/sub-01/nipype/image_SR/image_SR/sub-01_run-3_T2w_SR.nii.gz\" -m \"/fetaldata/derivatives/manual_masks/sub-01/anat/sub-01_run-3_T2w_desc-brain_mask.nii.gz\" --debluring False\n",
      "... cmd: mialsrtkTVSuperResolution -i \"/fetaldata/sub-01/anat/sub-01_run-4_T2w.nii.gz\" -o \"/fetaldata/derivatives/mialsrtk/sub-01/nipype/image_SR/image_SR/sub-01_run-4_T2w_SR.nii.gz\" -m \"/fetaldata/derivatives/manual_masks/sub-01/anat/sub-01_run-4_T2w_desc-brain_mask.nii.gz\" --debluring False\n",
      "... cmd: mialsrtkTVSuperResolution -i \"/fetaldata/sub-01/anat/sub-01_run-5_T2w.nii.gz\" -o \"/fetaldata/derivatives/mialsrtk/sub-01/nipype/image_SR/image_SR/sub-01_run-5_T2w_SR.nii.gz\" -m \"/fetaldata/derivatives/manual_masks/sub-01/anat/sub-01_run-5_T2w_desc-brain_mask.nii.gz\" --debluring False\n",
      "... cmd: mialsrtkTVSuperResolution -i \"/fetaldata/sub-01/anat/sub-01_run-6_T2w.nii.gz\" -o \"/fetaldata/derivatives/mialsrtk/sub-01/nipype/image_SR/image_SR/sub-01_run-6_T2w_SR.nii.gz\" -m \"/fetaldata/derivatives/manual_masks/sub-01/anat/sub-01_run-6_T2w_desc-brain_mask.nii.gz\" --debluring False\n",
      "191023-17:39:26,238 nipype.workflow INFO:\n",
      "\t [Node] Finished \"image_SR.image_SR\".\n"
     ]
    }
   ],
   "source": [
    "#Check if mandatory derivatives dataset_description.json exists in derivatives/mialsrtk.\n",
    "# If not, it is created before running the workflow, otherwise BIDSDataGrabber is not happy and raises an error. \n",
    "\n",
    "mialsrtk_dataset_description_json = os.path.join(output_dir,'dataset_description.json')\n",
    "\n",
    "print('Check for {}'.format(mialsrtk_dataset_description_json))\n",
    "if not os.access(mialsrtk_dataset_description_json, os.R_OK):\n",
    "    import json\n",
    "    data = {'PipelineDescription':{'Name': 'MIAL Super-Resolution ToolKit', \n",
    "                                'Version': 'v2.0.0-beta', \n",
    "                                'CodeURL': 'https://github.com/sebastientourbier/mialsuperresolutiontoolkit'\n",
    "                                  },\n",
    "            'Name': 'MIAL Super-Resolution ToolKit',\n",
    "            'BIDSVersion': '1.2.0'\n",
    "           }\n",
    "    os.makedirs(output_dir)\n",
    "    with open(mialsrtk_dataset_description_json, 'w+') as outfile:\n",
    "        json.dump(data, outfile, indent=4)\n",
    "    print('File {} was created'.format(mialsrtk_dataset_description_json))\n",
    "else:\n",
    "    print('File {} already exists'.format(mialsrtk_dataset_description_json))\n",
    "    \n",
    "\n",
    "wf = Workflow(name=\"image_SR\",base_dir=os.path.join(output_dir,'sub-{}'.format(subject),'nipype'))\n",
    "\n",
    "bg = Node(interface=BIDSDataGrabber(infields = ['subject']),name='bids_grabber')\n",
    "bg.inputs.base_dir = bids_dir\n",
    "bg.inputs.subject = subject\n",
    "bg.inputs.index_derivatives = True\n",
    "bg.inputs.raise_on_empty = False\n",
    "bg.inputs.output_query = {'T2ws': dict(suffix='T2w',datatype='anat',extensions=[\".nii\",\".nii.gz\"]),\n",
    "                          'masks': dict(suffix='mask',datatype='anat',extensions=[\".nii\",\".nii.gz\"])}\n",
    "imgSR = Node(interface = MultipleMialsrtkTVSuperResolution(),name='image_SR')\n",
    "imgSR.inputs.bids_dir = bids_dir\n",
    "imgSR.inputs.debluring = False\n",
    "\n",
    "wf.connect(bg, \"T2ws\", imgSR, \"input_images\")\n",
    "wf.connect(bg, \"masks\", imgSR, \"input_masks\")\n",
    "\n",
    "res = wf.run()"
   ]
  },
  {
   "cell_type": "markdown",
   "metadata": {},
   "source": [
    "___"
   ]
  },
  {
   "cell_type": "code",
   "execution_count": null,
   "metadata": {},
   "outputs": [],
   "source": []
  },
  {
   "cell_type": "markdown",
   "metadata": {},
   "source": [
    "___"
   ]
  }
 ],
 "metadata": {
  "kernelspec": {
   "display_name": "Python 3",
   "language": "python",
   "name": "python3"
  },
  "language_info": {
   "codemirror_mode": {
    "name": "ipython",
    "version": 3
   },
   "file_extension": ".py",
   "mimetype": "text/x-python",
   "name": "python",
   "nbconvert_exporter": "python",
   "pygments_lexer": "ipython3",
   "version": "3.7.2"
  }
 },
 "nbformat": 4,
 "nbformat_minor": 2
}
