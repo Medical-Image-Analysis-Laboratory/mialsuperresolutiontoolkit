{
 "cells": [
  {
   "cell_type": "code",
   "execution_count": 4,
   "metadata": {},
   "outputs": [],
   "source": [
    "import os\n",
    "\n",
    "from bids import BIDSLayout\n",
    "\n",
    "from glob import glob\n",
    "\n",
    "from nipype.interfaces.io import BIDSDataGrabber\n",
    "from nipype.pipeline import Node, MapNode, Workflow\n",
    "from nipype.interfaces.utility import Function"
   ]
  },
  {
   "cell_type": "code",
   "execution_count": 7,
   "metadata": {},
   "outputs": [
    {
     "name": "stdout",
     "output_type": "stream",
     "text": [
      "BIDS Layout: .../fetaldata | Subjects: 9 | Sessions: 10 | Runs: 57\n"
     ]
    }
   ],
   "source": [
    "bids_dir = os.path.join('/fetaldata')\n",
    "mask_dir = os.path.join('/fetaldata','derivatives','manual_masks')\n",
    "\n",
    "subject = '01'\n",
    "\n",
    "layout = BIDSLayout(bids_dir,derivatives=mask_dir)\n",
    "print(layout)\n"
   ]
  },
  {
   "cell_type": "code",
   "execution_count": 9,
   "metadata": {},
   "outputs": [],
   "source": [
    "from traits.api import *\n",
    "\n",
    "import nibabel as nib\n",
    "\n",
    "from nipype.utils.filemanip import split_filename\n",
    "from nipype.interfaces.base import traits, isdefined, CommandLine, CommandLineInputSpec,\\\n",
    "    TraitedSpec, File, InputMultiPath, OutputMultiPath, BaseInterface, BaseInterfaceInputSpec\n",
    "\n",
    "from nipype.interfaces.mixins import reporting\n",
    "\n"
   ]
  },
  {
   "cell_type": "code",
   "execution_count": 35,
   "metadata": {},
   "outputs": [],
   "source": [
    "import nibabel as nib\n",
    "import numpy as np\n",
    "import skimage.measure\n"
   ]
  },
  {
   "cell_type": "code",
   "execution_count": 61,
   "metadata": {},
   "outputs": [],
   "source": [
    "class StacksOrderingInputSpec(BaseInterfaceInputSpec):\n",
    "    \"\"\"Class used to represent inputs of the StacksOrdering interface.\n",
    "\n",
    "    Attributes\n",
    "    -----------\n",
    "    input_masks <list<string>>\n",
    "        Input brain masks on which motion is computed.\n",
    "\n",
    "    See also\n",
    "    --------------\n",
    "    pymialsrtk.interfaces.preprocess.StacksOrdering\n",
    "\n",
    "    \"\"\"\n",
    "    \n",
    "    input_masks = InputMultiPath(File(desc='Input masks',mandatory=True))\n",
    "    \n",
    "    \n",
    "class StacksOrderingOutputSpec(TraitedSpec):\n",
    "    \"\"\"Class used to represent outputs of the StacksOrdering interface.\n",
    "\n",
    "    Attributes\n",
    "    -----------\n",
    "    stacks_order <string>\n",
    "        Order of images' run-id to be used for reconstruction\n",
    "\n",
    "    See also\n",
    "    --------------\n",
    "    pymialsrtk.interfaces.preprocess.StacksOrdering\n",
    "\n",
    "    \"\"\"\n",
    "    \n",
    "    stacks_order = traits.List(desc = 'Order of stacks')\n",
    "\n",
    "    \n",
    "class StacksOrdering(BaseInterface):\n",
    "    \"\"\"Runs the automatic ordering of stacks.\n",
    "\n",
    "    This module is based on a centroid tracking of the the central of the brain mask.\n",
    "\n",
    "    Examples\n",
    "    --------\n",
    "    >>> from pymialsrtk.interfaces.preprocess import StacksOrdering\n",
    "    >>> stacksOrdering = StacksOrdering()\n",
    "    >>> stacksOrdering.inputs.input_images = ['my_image_run-1.nii.gz', 'my_image_run-3.nii.gz', 'my_image_run-2.nii.gz']\n",
    "    >>> stacksOrdering.run() # doctest: +SKIP\n",
    "\n",
    "    \"\"\"\n",
    "    \n",
    "    input_spec = StacksOrderingInputSpec\n",
    "    output_spec = StacksOrderingOutputSpec\n",
    "    \n",
    "    m_stack_order = []\n",
    "    \n",
    "    def _run_interface(self, runtime): \n",
    "        try:\n",
    "            self.m_stack_order = self._compute_stack_order(self.inputs.input_masks)\n",
    "        except Exception:\n",
    "            print('Failed')\n",
    "            \n",
    "            print(traceback.format_exc())\n",
    "        return runtime\n",
    "\n",
    "    def _list_outputs(self):\n",
    "        outputs = self._outputs().get()\n",
    "        outputs['stacks_order'] = self.m_stack_order\n",
    "        return outputs\n",
    "    \n",
    "    def _compute_motion_index(self, in_file):\n",
    "        \"\"\"Function to compute the motion index.\n",
    "\n",
    "        The motion index is computed from the inter-slice displacement of the centroid of the brain mask.  \n",
    "        \"\"\"\n",
    "        central_third = True\n",
    "\n",
    "        img = nib.load(in_file)\n",
    "\n",
    "        voxelspacing = img.header['pixdim'][2]\n",
    "        data = img.get_fdata()\n",
    "\n",
    "        z = np.where(data)[2]        \n",
    "        data=data[...,int(min(z)):int(max(z)+1)]\n",
    "\n",
    "        if central_third:\n",
    "            num_z=data.shape[2]\n",
    "            center_z=int(num_z/2.)\n",
    "            \n",
    "            data=data[...,int(center_z-num_z/6.):int(center_z+num_z/6.)]\n",
    "\n",
    "        centroid_coord=np.zeros((data.shape[2],2))\n",
    "\n",
    "        for i in range(data.shape[2]):\n",
    "            moments=skimage.measure.moments(data[...,i])\n",
    "            centroid_coord[i,:]=[moments[0,1]/moments[0,0],moments[1,0]/moments[0,0]]\n",
    "\n",
    "        centroid_coord = centroid_coord[~np.isnan(centroid_coord)]\n",
    "        centroid_coord = np.reshape(centroid_coord,(int(centroid_coord.shape[0]/2),2))\n",
    "\n",
    "        nSlices = data.shape[2]\n",
    "        score = (np.var(centroid_coord[:,0])+np.var(centroid_coord[:,1])) / nSlices\n",
    "\n",
    "        return score\n",
    "\n",
    "\n",
    "    def _compute_stack_order(self, in_files):\n",
    "        \"\"\"Function to compute the stacks order.\n",
    "\n",
    "        The motion index is computed for each mask. Stacks are ordered according to their motion index. \n",
    "        \"\"\"\n",
    "        motion_ind = []\n",
    "\n",
    "        for f in in_files:\n",
    "            motion_ind.append(self._compute_motion_index(f))\n",
    "        \n",
    "        motion_ind_sorted, images_ordered = (list(t) for t in zip(*sorted(zip(motion_ind, in_files))))\n",
    "        run_order = [ int(f.split('run-')[1].split('_')[0]) for f in images_ordered]\n",
    "        \n",
    "        return run_order\n",
    "        "
   ]
  },
  {
   "cell_type": "code",
   "execution_count": 62,
   "metadata": {},
   "outputs": [
    {
     "data": {
      "text/plain": [
       "[2, 5, 3, 4, 6, 1]"
      ]
     },
     "execution_count": 62,
     "metadata": {},
     "output_type": "execute_result"
    }
   ],
   "source": [
    "stacksOrdering = StacksOrdering()\n",
    "\n",
    "stacksOrdering.inputs.input_masks = ['/fetaldata/derivatives/manual_masks/sub-01/anat/sub-01_run-1_T2w_desc-brain_mask.nii.gz',\n",
    "                        '/fetaldata/derivatives/manual_masks/sub-01/anat/sub-01_run-2_T2w_desc-brain_mask.nii.gz',\n",
    "                         '/fetaldata/derivatives/manual_masks/sub-01/anat/sub-01_run-3_T2w_desc-brain_mask.nii.gz',\n",
    "                        '/fetaldata/derivatives/manual_masks/sub-01/anat/sub-01_run-4_T2w_desc-brain_mask.nii.gz',\n",
    "                         '/fetaldata/derivatives/manual_masks/sub-01/anat/sub-01_run-5_T2w_desc-brain_mask.nii.gz',\n",
    "                        '/fetaldata/derivatives/manual_masks/sub-01/anat/sub-01_run-6_T2w_desc-brain_mask.nii.gz']\n",
    "\n",
    "aa = stacksOrdering.run() # doctest: +SKIP\n",
    "aa.outputs.stacks_order"
   ]
  },
  {
   "cell_type": "code",
   "execution_count": 63,
   "metadata": {
    "scrolled": true
   },
   "outputs": [
    {
     "name": "stdout",
     "output_type": "stream",
     "text": [
      "Check for /fetaldata/derivatives/mialsrtk/dataset_description.json\n",
      "File /fetaldata/derivatives/mialsrtk/dataset_description.json already exists\n",
      "201110-18:16:46,341 nipype.workflow INFO:\n",
      "\t Workflow mon_stacksOrdering settings: ['check', 'execution', 'logging', 'monitoring']\n",
      "201110-18:16:46,346 nipype.workflow INFO:\n",
      "\t Running serially.\n",
      "201110-18:16:46,347 nipype.workflow INFO:\n",
      "\t [Node] Setting-up \"mon_stacksOrdering.bids_grabber\" in \"/fetaldata/derivatives/mialsrtk/sub-01/nipype/mon_stacksOrdering/bids_grabber\".\n",
      "201110-18:16:46,350 nipype.workflow INFO:\n",
      "\t [Node] Running \"bids_grabber\" (\"nipype.interfaces.io.BIDSDataGrabber\")\n",
      "201110-18:16:46,858 nipype.workflow INFO:\n",
      "\t [Node] Finished \"mon_stacksOrdering.bids_grabber\".\n",
      "201110-18:16:46,859 nipype.workflow INFO:\n",
      "\t [Node] Setting-up \"mon_stacksOrdering.mon_stacksOrdering_module\" in \"/fetaldata/derivatives/mialsrtk/sub-01/nipype/mon_stacksOrdering/mon_stacksOrdering_module\".\n",
      "201110-18:16:46,861 nipype.workflow INFO:\n",
      "\t [Node] Cached \"mon_stacksOrdering.mon_stacksOrdering_module\" - collecting precomputed outputs\n",
      "201110-18:16:46,861 nipype.workflow INFO:\n",
      "\t [Node] \"mon_stacksOrdering.mon_stacksOrdering_module\" found cached.\n"
     ]
    }
   ],
   "source": [
    "#Check if mandatory derivatives dataset_description.json exists in derivatives/mialsrtk.\n",
    "# If not, it is created before running the workflow, otherwise BIDSDataGrabber is not happy and raises an error. \n",
    "\n",
    "mialsrtk_dataset_description_json = os.path.join(output_dir,'dataset_description.json')\n",
    "\n",
    "print('Check for {}'.format(mialsrtk_dataset_description_json))\n",
    "if not os.access(mialsrtk_dataset_description_json, os.R_OK):\n",
    "    import json\n",
    "    data = {'PipelineDescription':{'Name': 'MIAL Super-Resolution ToolKit', \n",
    "                                'Version': 'v2.0.0-beta', \n",
    "                                'CodeURL': 'https://github.com/sebastientourbier/mialsuperresolutiontoolkit'\n",
    "                                  },\n",
    "            'Name': 'MIAL Super-Resolution ToolKit',\n",
    "            'BIDSVersion': '1.2.0'\n",
    "           }\n",
    "    os.makedirs(output_dir)\n",
    "    with open(mialsrtk_dataset_description_json, 'w+') as outfile:\n",
    "        json.dump(data, outfile, indent=4)\n",
    "    print('File {} was created'.format(mialsrtk_dataset_description_json))\n",
    "else:\n",
    "    print('File {} already exists'.format(mialsrtk_dataset_description_json))\n",
    "    \n",
    "\n",
    "wf = Workflow(name=\"mon_stacksOrdering\",base_dir=os.path.join(output_dir,'sub-{}'.format(subject),'nipype'))\n",
    "\n",
    "bg = Node(interface=BIDSDataGrabber(infields = ['subject']),name='bids_grabber')\n",
    "bg.inputs.base_dir = bids_dir\n",
    "bg.inputs.subject = subject\n",
    "bg.inputs.index_derivatives = True\n",
    "bg.inputs.raise_on_empty = False\n",
    "bg.inputs.output_query = {'T2ws': dict(suffix='T2w',datatype='anat',extensions=[\".nii\",\".nii.gz\"]),\n",
    "                          'masks': dict(suffix='mask',datatype='anat',extensions=[\".nii\",\".nii.gz\"])}\n",
    "\n",
    "stacksOrdering = Node(interface = StacksOrdering(),name='mon_stacksOrdering_module')\n",
    "\n",
    "wf.connect(bg, \"masks\", stacksOrdering, \"input_masks\")\n",
    "\n",
    "res = wf.run()"
   ]
  },
  {
   "cell_type": "code",
   "execution_count": null,
   "metadata": {},
   "outputs": [],
   "source": []
  },
  {
   "cell_type": "code",
   "execution_count": null,
   "metadata": {},
   "outputs": [],
   "source": []
  }
 ],
 "metadata": {
  "kernelspec": {
   "display_name": "Python 3",
   "language": "python",
   "name": "python3"
  },
  "language_info": {
   "codemirror_mode": {
    "name": "ipython",
    "version": 3
   },
   "file_extension": ".py",
   "mimetype": "text/x-python",
   "name": "python",
   "nbconvert_exporter": "python",
   "pygments_lexer": "ipython3",
   "version": "3.7.2"
  }
 },
 "nbformat": 4,
 "nbformat_minor": 4
}
