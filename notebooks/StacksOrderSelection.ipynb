{
 "cells": [
  {
   "cell_type": "code",
   "execution_count": 7,
   "metadata": {},
   "outputs": [
    {
     "name": "stdout",
     "output_type": "stream",
     "text": [
      "Processing /Users/sebastientourbier/Softwares/forks/mialsuperresolutiontoolkit-1\n",
      "Building wheels for collected packages: pymialsrtk\n",
      "  Building wheel for pymialsrtk (setup.py): started\n",
      "  Building wheel for pymialsrtk (setup.py): finished with status 'done'\n",
      "  Created wheel for pymialsrtk: filename=pymialsrtk-2.0.2.dev0-py3-none-any.whl size=174085433 sha256=93ab64303a0db9741479e029747d49a7df32fef25967698698a4ab87028eed27\n",
      "  Stored in directory: /Users/sebastientourbier/Library/Caches/pip/wheels/7e/e7/e7/f2999683d01f3a046157fafe8d3e57f99e2d0367c0e2d45e88\n",
      "Successfully built pymialsrtk\n",
      "Installing collected packages: pymialsrtk\n",
      "  Attempting uninstall: pymialsrtk\n",
      "    Found existing installation: pymialsrtk 2.0.2.dev0\n",
      "    Uninstalling pymialsrtk-2.0.2.dev0:\n",
      "      Successfully uninstalled pymialsrtk-2.0.2.dev0\n",
      "Successfully installed pymialsrtk-2.0.2.dev0\n"
     ]
    }
   ],
   "source": [
    "%%bash\n",
    "pip install ../"
   ]
  },
  {
   "cell_type": "code",
   "execution_count": 1,
   "metadata": {},
   "outputs": [],
   "source": [
    "import os\n",
    "\n",
    "from bids import BIDSLayout\n",
    "\n",
    "from glob import glob\n",
    "\n",
    "from nipype.interfaces.io import BIDSDataGrabber\n",
    "from nipype.pipeline import Node, MapNode, Workflow\n",
    "from nipype.interfaces.utility import Function"
   ]
  },
  {
   "cell_type": "code",
   "execution_count": 2,
   "metadata": {},
   "outputs": [],
   "source": [
    "from traits.api import *\n",
    "\n",
    "import nibabel as nib\n",
    "\n",
    "from nipype.utils.filemanip import split_filename\n",
    "from nipype.interfaces.base import traits, isdefined, CommandLine, CommandLineInputSpec,\\\n",
    "    TraitedSpec, File, InputMultiPath, OutputMultiPath, BaseInterface, BaseInterfaceInputSpec\n",
    "\n",
    "from nipype.interfaces.mixins import reporting"
   ]
  },
  {
   "cell_type": "code",
   "execution_count": 3,
   "metadata": {},
   "outputs": [],
   "source": [
    "import nibabel as nib\n",
    "import numpy as np\n",
    "import skimage.measure"
   ]
  },
  {
   "cell_type": "code",
   "execution_count": 4,
   "metadata": {},
   "outputs": [
    {
     "name": "stderr",
     "output_type": "stream",
     "text": [
      "/Applications/miniconda3/envs/pymialsrtk-env/lib/python3.7/site-packages/bids/layout/models.py:152: FutureWarning: The 'extension' entity currently excludes the leading dot ('.'). As of version 0.14.0, it will include the leading dot. To suppress this warning and include the leading dot, use `bids.config.set_option('extension_initial_dot', True)`.\n",
      "  FutureWarning)\n"
     ]
    },
    {
     "name": "stdout",
     "output_type": "stream",
     "text": [
      "BIDS Layout: ...lsuperresolutiontoolkit-1/data | Subjects: 1 | Sessions: 0 | Runs: 6\n"
     ]
    }
   ],
   "source": [
    "bids_dir = os.path.join('/Users/sebastientourbier/Softwares/forks/mialsuperresolutiontoolkit-1/data')\n",
    "mask_dir = os.path.join(bids_dir, 'derivatives', 'manual_masks')\n",
    "\n",
    "subject = '01'\n",
    "\n",
    "layout = BIDSLayout(bids_dir, derivatives=mask_dir)\n",
    "print(layout)"
   ]
  },
  {
   "cell_type": "code",
   "execution_count": 5,
   "metadata": {},
   "outputs": [
    {
     "name": "stdout",
     "output_type": "stream",
     "text": [
      "WARNING:tensorflow:From /Applications/miniconda3/envs/pymialsrtk-env/lib/python3.7/site-packages/tensorflow/python/compat/v2_compat.py:96: disable_resource_variables (from tensorflow.python.ops.variable_scope) is deprecated and will be removed in a future version.\n",
      "Instructions for updating:\n",
      "non-resource variables are not supported in the long term\n"
     ]
    }
   ],
   "source": [
    "from pymialsrtk.interfaces.preprocess import StacksOrdering"
   ]
  },
  {
   "cell_type": "code",
   "execution_count": 6,
   "metadata": {},
   "outputs": [
    {
     "name": "stdout",
     "output_type": "stream",
     "text": [
      "  Info: Number of NaNs = 0\n",
      "  Info: Number of NaNs = 0\n",
      "  Info: Number of NaNs = 0\n",
      "  Info: Number of NaNs = 0\n",
      "  Info: Number of NaNs = 0\n",
      "  Info: Number of NaNs = 0\n",
      "\t>> Create report image...\n",
      "\t\t\t - Format data...\n",
      "\t\t\t - Create DataFrame...\n",
      "     Scan  Slice  Motion Index  Proportion of NaNs (%)    X (mm)    Y (mm)  \\\n",
      "5   run-2  run-2      0.023707                     0.0  0.440528  0.248819   \n",
      "6   run-2  run-2      0.023707                     0.0  0.143335 -0.194660   \n",
      "7   run-2  run-2      0.023707                     0.0 -0.058334  0.358721   \n",
      "8   run-2  run-2      0.023707                     0.0  0.445515 -0.582403   \n",
      "9   run-2  run-2      0.023707                     0.0 -0.971044  0.169523   \n",
      "24  run-5  run-5      0.034545                     0.0 -0.115317 -0.936588   \n",
      "25  run-5  run-5      0.034545                     0.0 -0.691212  0.427981   \n",
      "26  run-5  run-5      0.034545                     0.0  0.151605  0.099944   \n",
      "27  run-5  run-5      0.034545                     0.0 -0.366834  0.162614   \n",
      "28  run-5  run-5      0.034545                     0.0  1.021758  0.246050   \n",
      "10  run-3  run-3      0.034858                     0.0  0.745116 -1.506861   \n",
      "11  run-3  run-3      0.034858                     0.0  0.145297 -0.771043   \n",
      "12  run-3  run-3      0.034858                     0.0 -0.257684  0.632681   \n",
      "13  run-3  run-3      0.034858                     0.0 -0.119751  0.696198   \n",
      "14  run-3  run-3      0.034858                     0.0  0.070042 -0.040388   \n",
      "15  run-3  run-3      0.034858                     0.0  0.042174  0.907495   \n",
      "16  run-3  run-3      0.034858                     0.0 -0.625193  0.081918   \n",
      "17  run-4  run-4      0.062694                     0.0 -0.241700  1.815984   \n",
      "18  run-4  run-4      0.062694                     0.0 -0.813570 -1.857281   \n",
      "19  run-4  run-4      0.062694                     0.0 -0.753517  0.271336   \n",
      "20  run-4  run-4      0.062694                     0.0  0.264512 -0.268836   \n",
      "21  run-4  run-4      0.062694                     0.0  0.146040  0.500229   \n",
      "22  run-4  run-4      0.062694                     0.0  1.212980 -0.194121   \n",
      "23  run-4  run-4      0.062694                     0.0  0.185255 -0.267311   \n",
      "29  run-6  run-6      0.087105                     0.0 -0.125714 -1.131355   \n",
      "30  run-6  run-6      0.087105                     0.0 -0.231452  0.275648   \n",
      "31  run-6  run-6      0.087105                     0.0 -0.944095  0.118737   \n",
      "32  run-6  run-6      0.087105                     0.0 -0.398724 -0.507579   \n",
      "33  run-6  run-6      0.087105                     0.0  1.699985  1.244549   \n",
      "0   run-1  run-1      0.271740                     0.0  1.996426 -0.045610   \n",
      "1   run-1  run-1      0.271740                     0.0 -1.490401  0.423500   \n",
      "2   run-1  run-1      0.271740                     0.0  1.273363 -0.629354   \n",
      "3   run-1  run-1      0.271740                     0.0 -3.254713  0.903943   \n",
      "4   run-1  run-1      0.271740                     0.0  1.475325 -0.652480   \n",
      "\n",
      "    Displacement Magnitude (mm)  \n",
      "5                      0.505941  \n",
      "6                      0.241739  \n",
      "7                      0.363433  \n",
      "8                      0.733265  \n",
      "9                      0.985730  \n",
      "24                     0.943661  \n",
      "25                     0.812983  \n",
      "26                     0.181584  \n",
      "27                     0.401261  \n",
      "28                     1.050967  \n",
      "10                     1.681019  \n",
      "11                     0.784613  \n",
      "12                     0.683144  \n",
      "13                     0.706422  \n",
      "14                     0.080852  \n",
      "15                     0.908475  \n",
      "16                     0.630537  \n",
      "17                     1.831998  \n",
      "18                     2.027656  \n",
      "19                     0.800882  \n",
      "20                     0.377147  \n",
      "21                     0.521111  \n",
      "22                     1.228415  \n",
      "23                     0.325230  \n",
      "29                     1.138318  \n",
      "30                     0.359933  \n",
      "31                     0.951532  \n",
      "32                     0.645459  \n",
      "33                     2.106858  \n",
      "0                      1.996947  \n",
      "1                      1.549402  \n",
      "2                      1.420401  \n",
      "3                      3.377909  \n",
      "4                      1.613169  \n",
      "\t\t\t - Create Boxplot...\n",
      "\t\t\t - Save report image 0 as /Users/sebastientourbier/Softwares/forks/mialsuperresolutiontoolkit-1/notebooks/motion_index_QC_0.png...\n",
      "\t\t\t - Save report image 1 as /Users/sebastientourbier/Softwares/forks/mialsuperresolutiontoolkit-1/notebooks/motion_index_QC_1.png...\n",
      "\t\t\t - Save report image 2 as /Users/sebastientourbier/Softwares/forks/mialsuperresolutiontoolkit-1/notebooks/motion_index_QC_2.png...\n",
      "\t\t\t - Save report image 3 as /Users/sebastientourbier/Softwares/forks/mialsuperresolutiontoolkit-1/notebooks/motion_index_QC_3.png...\n",
      "\t\t\t - Save final report image as /Users/sebastientourbier/Softwares/forks/mialsuperresolutiontoolkit-1/notebooks/motion_index_QC.png...\n",
      "\t\t\t - List output report image as /Users/sebastientourbier/Softwares/forks/mialsuperresolutiontoolkit-1/notebooks/motion_index_QC.png...\n"
     ]
    },
    {
     "data": {
      "text/plain": [
       "[2, 5, 3, 4, 6, 1]"
      ]
     },
     "execution_count": 6,
     "metadata": {},
     "output_type": "execute_result"
    }
   ],
   "source": [
    "stacksOrdering = StacksOrdering()\n",
    "\n",
    "stacksOrdering.inputs.input_masks = [\n",
    "    mask_dir + '/sub-01/anat/sub-01_run-1_T2w_desc-brain_mask.nii.gz',\n",
    "    mask_dir + '/sub-01/anat/sub-01_run-2_T2w_desc-brain_mask.nii.gz',\n",
    "    mask_dir + '/sub-01/anat/sub-01_run-3_T2w_desc-brain_mask.nii.gz',\n",
    "    mask_dir + '/sub-01/anat/sub-01_run-4_T2w_desc-brain_mask.nii.gz',\n",
    "    mask_dir + '/sub-01/anat/sub-01_run-5_T2w_desc-brain_mask.nii.gz',\n",
    "    mask_dir + '/sub-01/anat/sub-01_run-6_T2w_desc-brain_mask.nii.gz'\n",
    "]\n",
    "\n",
    "aa = stacksOrdering.run() # doctest: +SKIP\n",
    "aa.outputs.stacks_order"
   ]
  },
  {
   "cell_type": "code",
   "execution_count": null,
   "metadata": {
    "scrolled": true
   },
   "outputs": [],
   "source": [
    "#Check if mandatory derivatives dataset_description.json exists in derivatives/mialsrtk.\n",
    "# If not, it is created before running the workflow, otherwise BIDSDataGrabber is not happy and raises an error. \n",
    "\n",
    "mialsrtk_dataset_description_json = os.path.join(output_dir,'dataset_description.json')\n",
    "\n",
    "print('Check for {}'.format(mialsrtk_dataset_description_json))\n",
    "if not os.access(mialsrtk_dataset_description_json, os.R_OK):\n",
    "    import json\n",
    "    data = {'PipelineDescription':{'Name': 'MIAL Super-Resolution ToolKit', \n",
    "                                'Version': 'v2.0.0-beta', \n",
    "                                'CodeURL': 'https://github.com/sebastientourbier/mialsuperresolutiontoolkit'\n",
    "                                  },\n",
    "            'Name': 'MIAL Super-Resolution ToolKit',\n",
    "            'BIDSVersion': '1.2.0'\n",
    "           }\n",
    "    os.makedirs(output_dir)\n",
    "    with open(mialsrtk_dataset_description_json, 'w+') as outfile:\n",
    "        json.dump(data, outfile, indent=4)\n",
    "    print('File {} was created'.format(mialsrtk_dataset_description_json))\n",
    "else:\n",
    "    print('File {} already exists'.format(mialsrtk_dataset_description_json))\n",
    "    \n",
    "\n",
    "wf = Workflow(name=\"mon_stacksOrdering\",base_dir=os.path.join(output_dir,'sub-{}'.format(subject),'nipype'))\n",
    "\n",
    "bg = Node(interface=BIDSDataGrabber(infields = ['subject']),name='bids_grabber')\n",
    "bg.inputs.base_dir = bids_dir\n",
    "bg.inputs.subject = subject\n",
    "bg.inputs.index_derivatives = True\n",
    "bg.inputs.raise_on_empty = False\n",
    "bg.inputs.output_query = {'T2ws': dict(suffix='T2w',datatype='anat',extensions=[\".nii\",\".nii.gz\"]),\n",
    "                          'masks': dict(suffix='mask',datatype='anat',extensions=[\".nii\",\".nii.gz\"])}\n",
    "\n",
    "stacksOrdering = Node(interface = StacksOrdering(),name='mon_stacksOrdering_module')\n",
    "\n",
    "wf.connect(bg, \"masks\", stacksOrdering, \"input_masks\")\n",
    "\n",
    "res = wf.run()"
   ]
  },
  {
   "cell_type": "code",
   "execution_count": null,
   "metadata": {},
   "outputs": [],
   "source": [
    "%%bash\n",
    "pip install matplotlib==3.4"
   ]
  },
  {
   "cell_type": "code",
   "execution_count": null,
   "metadata": {},
   "outputs": [],
   "source": []
  }
 ],
 "metadata": {
  "kernelspec": {
   "display_name": "Python 3 (ipykernel)",
   "language": "python",
   "name": "python3"
  },
  "language_info": {
   "codemirror_mode": {
    "name": "ipython",
    "version": 3
   },
   "file_extension": ".py",
   "mimetype": "text/x-python",
   "name": "python",
   "nbconvert_exporter": "python",
   "pygments_lexer": "ipython3",
   "version": "3.7.10"
  }
 },
 "nbformat": 4,
 "nbformat_minor": 4
}
