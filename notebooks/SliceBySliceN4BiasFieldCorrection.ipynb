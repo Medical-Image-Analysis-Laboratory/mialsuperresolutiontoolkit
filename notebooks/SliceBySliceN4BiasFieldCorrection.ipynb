{
 "cells": [
  {
   "cell_type": "code",
   "execution_count": 1,
   "metadata": {
    "scrolled": false
   },
   "outputs": [
    {
     "name": "stdout",
     "output_type": "stream",
     "text": [
      "running install\n",
      "running build\n",
      "running build_py\n",
      "copying pymialsrtk/interfaces/preprocess.py -> build/lib/pymialsrtk/interfaces\n",
      "running build_scripts\n",
      "running install_lib\n",
      "copying build/lib/pymialsrtk/info.py -> /opt/conda/envs/pymialsrtk-env/lib/python3.7/site-packages/pymialsrtk\n",
      "copying build/lib/pymialsrtk/interfaces/registration.py -> /opt/conda/envs/pymialsrtk-env/lib/python3.7/site-packages/pymialsrtk/interfaces\n",
      "copying build/lib/pymialsrtk/interfaces/reconstruction.py -> /opt/conda/envs/pymialsrtk-env/lib/python3.7/site-packages/pymialsrtk/interfaces\n",
      "copying build/lib/pymialsrtk/interfaces/preprocess.py -> /opt/conda/envs/pymialsrtk-env/lib/python3.7/site-packages/pymialsrtk/interfaces\n",
      "copying build/lib/pymialsrtk/interfaces/__init__.py -> /opt/conda/envs/pymialsrtk-env/lib/python3.7/site-packages/pymialsrtk/interfaces\n",
      "copying build/lib/pymialsrtk/interfaces/utils.py -> /opt/conda/envs/pymialsrtk-env/lib/python3.7/site-packages/pymialsrtk/interfaces\n",
      "copying build/lib/pymialsrtk/__init__.py -> /opt/conda/envs/pymialsrtk-env/lib/python3.7/site-packages/pymialsrtk\n",
      "copying build/lib/pymialsrtk/pipelines/__init__.py -> /opt/conda/envs/pymialsrtk-env/lib/python3.7/site-packages/pymialsrtk/pipelines\n",
      "byte-compiling /opt/conda/envs/pymialsrtk-env/lib/python3.7/site-packages/pymialsrtk/info.py to info.cpython-37.pyc\n",
      "byte-compiling /opt/conda/envs/pymialsrtk-env/lib/python3.7/site-packages/pymialsrtk/interfaces/registration.py to registration.cpython-37.pyc\n",
      "byte-compiling /opt/conda/envs/pymialsrtk-env/lib/python3.7/site-packages/pymialsrtk/interfaces/reconstruction.py to reconstruction.cpython-37.pyc\n",
      "byte-compiling /opt/conda/envs/pymialsrtk-env/lib/python3.7/site-packages/pymialsrtk/interfaces/preprocess.py to preprocess.cpython-37.pyc\n",
      "byte-compiling /opt/conda/envs/pymialsrtk-env/lib/python3.7/site-packages/pymialsrtk/interfaces/__init__.py to __init__.cpython-37.pyc\n",
      "byte-compiling /opt/conda/envs/pymialsrtk-env/lib/python3.7/site-packages/pymialsrtk/interfaces/utils.py to utils.cpython-37.pyc\n",
      "byte-compiling /opt/conda/envs/pymialsrtk-env/lib/python3.7/site-packages/pymialsrtk/__init__.py to __init__.cpython-37.pyc\n",
      "byte-compiling /opt/conda/envs/pymialsrtk-env/lib/python3.7/site-packages/pymialsrtk/pipelines/__init__.py to __init__.cpython-37.pyc\n",
      "running install_scripts\n",
      "copying build/scripts-3.7/superresolution -> /opt/conda/envs/pymialsrtk-env/bin\n",
      "changing mode of /opt/conda/envs/pymialsrtk-env/bin/superresolution to 755\n",
      "running install_egg_info\n",
      "Removing /opt/conda/envs/pymialsrtk-env/lib/python3.7/site-packages/pymialsrtk-2.0.0_beta_20190906-py3.7.egg-info\n",
      "Writing /opt/conda/envs/pymialsrtk-env/lib/python3.7/site-packages/pymialsrtk-2.0.0_beta_20190906-py3.7.egg-info\n"
     ]
    }
   ],
   "source": [
    "%%bash\n",
    "# Go to folder containing the source code\n",
    "cd /app/mialsuperresolutiontoolkit/\n",
    "# Install the pymialsrtk package inside the python/conda environment\n",
    "python setup.py install --force"
   ]
  },
  {
   "cell_type": "code",
   "execution_count": 2,
   "metadata": {},
   "outputs": [
    {
     "name": "stdout",
     "output_type": "stream",
     "text": [
      "Check for /fetaldata/derivatives/mialsrtk/dataset_description.json\n",
      "File /fetaldata/derivatives/mialsrtk/dataset_description.json was created\n",
      "191008-17:23:02,215 nipype.workflow INFO:\n",
      "\t Workflow sliceN4 settings: ['check', 'execution', 'logging', 'monitoring']\n",
      "191008-17:23:02,218 nipype.workflow INFO:\n",
      "\t Running serially.\n",
      "191008-17:23:02,218 nipype.workflow INFO:\n",
      "\t [Node] Setting-up \"sliceN4.bids_grabber\" in \"/fetaldata/derivatives/mialsrtk/sub-01/nipype/sliceN4/bids_grabber\".\n",
      "191008-17:23:02,221 nipype.workflow INFO:\n",
      "\t [Node] Running \"bids_grabber\" (\"nipype.interfaces.io.BIDSDataGrabber\")\n"
     ]
    },
    {
     "name": "stderr",
     "output_type": "stream",
     "text": [
      "/opt/conda/envs/pymialsrtk-env/lib/python3.7/site-packages/bids/layout/layout.py:690: UserWarning: In pybids 0.9.0, the 'extensions' filter was deprecated in favor of 'extension'. The former will stop working in 0.11.0.\n",
      "  warnings.warn(\"In pybids 0.9.0, the 'extensions' filter was \"\n"
     ]
    },
    {
     "name": "stdout",
     "output_type": "stream",
     "text": [
      "191008-17:23:03,175 nipype.workflow INFO:\n",
      "\t [Node] Finished \"sliceN4.bids_grabber\".\n",
      "191008-17:23:03,176 nipype.workflow INFO:\n",
      "\t [Node] Setting-up \"sliceN4.sliceN4\" in \"/fetaldata/derivatives/mialsrtk/sub-01/nipype/sliceN4/sliceN4\".\n",
      "191008-17:23:03,179 nipype.workflow INFO:\n",
      "\t [Node] Running \"sliceN4\" (\"pymialsrtk.interfaces.preprocess.MultipleMialsrtkSliceBySliceN4BiasFieldCorrection\")\n",
      "... cmd: mialsrtkSliceBySliceN4BiasFieldCorrection \"/fetaldata/sub-01/anat/sub-01_run-1_T2w.nii.gz\" \"/fetaldata/derivatives/manual_masks/sub-01/anat/sub-01_run-1_T2w_desc-brain_mask.nii.gz\" \"/fetaldata/derivatives/mialsrtk/sub-01/nipype/sliceN4/sliceN4/sub-01_run-1_T2w_sliceN4corr.nii.gz\" \"/fetaldata/derivatives/mialsrtk/sub-01/nipype/sliceN4/sliceN4/sub-01_run-1_T2w_sliceN4field.nii.gz\"\n",
      "... cmd: mialsrtkSliceBySliceN4BiasFieldCorrection \"/fetaldata/sub-01/anat/sub-01_run-2_T2w.nii.gz\" \"/fetaldata/derivatives/manual_masks/sub-01/anat/sub-01_run-2_T2w_desc-brain_mask.nii.gz\" \"/fetaldata/derivatives/mialsrtk/sub-01/nipype/sliceN4/sliceN4/sub-01_run-2_T2w_sliceN4corr.nii.gz\" \"/fetaldata/derivatives/mialsrtk/sub-01/nipype/sliceN4/sliceN4/sub-01_run-2_T2w_sliceN4field.nii.gz\"\n",
      "... cmd: mialsrtkSliceBySliceN4BiasFieldCorrection \"/fetaldata/sub-01/anat/sub-01_run-3_T2w.nii.gz\" \"/fetaldata/derivatives/manual_masks/sub-01/anat/sub-01_run-3_T2w_desc-brain_mask.nii.gz\" \"/fetaldata/derivatives/mialsrtk/sub-01/nipype/sliceN4/sliceN4/sub-01_run-3_T2w_sliceN4corr.nii.gz\" \"/fetaldata/derivatives/mialsrtk/sub-01/nipype/sliceN4/sliceN4/sub-01_run-3_T2w_sliceN4field.nii.gz\"\n",
      "... cmd: mialsrtkSliceBySliceN4BiasFieldCorrection \"/fetaldata/sub-01/anat/sub-01_run-4_T2w.nii.gz\" \"/fetaldata/derivatives/manual_masks/sub-01/anat/sub-01_run-4_T2w_desc-brain_mask.nii.gz\" \"/fetaldata/derivatives/mialsrtk/sub-01/nipype/sliceN4/sliceN4/sub-01_run-4_T2w_sliceN4corr.nii.gz\" \"/fetaldata/derivatives/mialsrtk/sub-01/nipype/sliceN4/sliceN4/sub-01_run-4_T2w_sliceN4field.nii.gz\"\n",
      "... cmd: mialsrtkSliceBySliceN4BiasFieldCorrection \"/fetaldata/sub-01/anat/sub-01_run-5_T2w.nii.gz\" \"/fetaldata/derivatives/manual_masks/sub-01/anat/sub-01_run-5_T2w_desc-brain_mask.nii.gz\" \"/fetaldata/derivatives/mialsrtk/sub-01/nipype/sliceN4/sliceN4/sub-01_run-5_T2w_sliceN4corr.nii.gz\" \"/fetaldata/derivatives/mialsrtk/sub-01/nipype/sliceN4/sliceN4/sub-01_run-5_T2w_sliceN4field.nii.gz\"\n",
      "... cmd: mialsrtkSliceBySliceN4BiasFieldCorrection \"/fetaldata/sub-01/anat/sub-01_run-6_T2w.nii.gz\" \"/fetaldata/derivatives/manual_masks/sub-01/anat/sub-01_run-6_T2w_desc-brain_mask.nii.gz\" \"/fetaldata/derivatives/mialsrtk/sub-01/nipype/sliceN4/sliceN4/sub-01_run-6_T2w_sliceN4corr.nii.gz\" \"/fetaldata/derivatives/mialsrtk/sub-01/nipype/sliceN4/sliceN4/sub-01_run-6_T2w_sliceN4field.nii.gz\"\n",
      "191008-17:23:22,935 nipype.workflow INFO:\n",
      "\t [Node] Finished \"sliceN4.sliceN4\".\n"
     ]
    }
   ],
   "source": [
    "import os\n",
    "import json\n",
    "\n",
    "# Imports from nipype\n",
    "from nipype.interfaces.io import BIDSDataGrabber\n",
    "from nipype.pipeline import Node, Workflow\n",
    "\n",
    "# Import the implemented interface from pymialsrtk\n",
    "import pymialsrtk.interfaces.preprocess as preprocess\n",
    "\n",
    "# Set different variables (defined in cell 2) such that we do not have to rerun cell 2\n",
    "bids_dir = os.path.join('/fetaldata')\n",
    "output_dir = os.path.join('/fetaldata','derivatives','mialsrtk')\n",
    "mask_dir = os.path.join('/fetaldata','derivatives','manual_masks')\n",
    "subject = '01'\n",
    "\n",
    "#Make sure we start from empty derivatives\n",
    "import shutil\n",
    "shutil.rmtree(output_dir)\n",
    "\n",
    "#Check if mandatory derivatives dataset_description.json exists in derivatives/mialsrtk.\n",
    "# If not, it is created before running the workflow, otherwise BIDSDataGrabber is not happy and raises an error. \n",
    "\n",
    "mialsrtk_dataset_description_json = os.path.join(output_dir,'dataset_description.json')\n",
    "\n",
    "print('Check for {}'.format(mialsrtk_dataset_description_json))\n",
    "if not os.access(mialsrtk_dataset_description_json, os.R_OK):\n",
    "    data = {'PipelineDescription':{'Name': 'MIAL Super-Resolution ToolKit', \n",
    "                                'Version': 'v2.0.0-beta', \n",
    "                                'CodeURL': 'https://github.com/sebastientourbier/mialsuperresolutiontoolkit'\n",
    "                                  },\n",
    "            'Name': 'MIAL Super-Resolution ToolKit',\n",
    "            'BIDSVersion': '1.2.0'\n",
    "           }\n",
    "    os.makedirs(output_dir)\n",
    "    with open(mialsrtk_dataset_description_json, 'w+') as outfile:\n",
    "        json.dump(data, outfile, indent=4)\n",
    "    print('File {} was created'.format(mialsrtk_dataset_description_json))\n",
    "else:\n",
    "    print('File {} already exists'.format(mialsrtk_dataset_description_json))\n",
    "\n",
    "# Construct the workflow\n",
    "wf = Workflow(name=\"sliceN4\",base_dir=os.path.join(output_dir,'sub-{}'.format(subject),'nipype'))\n",
    "\n",
    "bg = Node(interface=BIDSDataGrabber(infields = ['subject']),name='bids_grabber')\n",
    "bg.inputs.base_dir = bids_dir\n",
    "bg.inputs.subject = subject\n",
    "bg.inputs.index_derivatives = True\n",
    "bg.inputs.raise_on_empty = False\n",
    "bg.inputs.output_query = {'T2ws': dict(suffix='T2w',datatype='anat',extensions=[\".nii\",\".nii.gz\"]),\n",
    "                          'masks': dict(suffix='mask',datatype='anat',extensions=[\".nii\",\".nii.gz\"])}\n",
    "\n",
    "sliceN4 = Node(interface=preprocess.MultipleMialsrtkSliceBySliceN4BiasFieldCorrection(),name='sliceN4')\n",
    "sliceN4.inputs.bids_dir = bids_dir\n",
    "                  \n",
    "wf.connect(bg, \"T2ws\", sliceN4, \"input_images\")\n",
    "wf.connect(bg, \"masks\", sliceN4, \"input_masks\")\n",
    "\n",
    "res = wf.run()"
   ]
  }
 ],
 "metadata": {
  "kernelspec": {
   "display_name": "Python 3",
   "language": "python",
   "name": "python3"
  },
  "language_info": {
   "codemirror_mode": {
    "name": "ipython",
    "version": 3
   },
   "file_extension": ".py",
   "mimetype": "text/x-python",
   "name": "python",
   "nbconvert_exporter": "python",
   "pygments_lexer": "ipython3",
   "version": "3.7.2"
  }
 },
 "nbformat": 4,
 "nbformat_minor": 2
}
