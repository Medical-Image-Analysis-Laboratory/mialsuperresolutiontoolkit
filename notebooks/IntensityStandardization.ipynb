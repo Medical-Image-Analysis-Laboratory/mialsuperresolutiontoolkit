{
 "cells": [
  {
   "cell_type": "code",
   "execution_count": 1,
   "metadata": {
    "scrolled": false
   },
   "outputs": [
    {
     "name": "stdout",
     "output_type": "stream",
     "text": [
      "running install\n",
      "running build\n",
      "running build_py\n",
      "copying pymialsrtk/interfaces/preprocess.py -> build/lib/pymialsrtk/interfaces\n",
      "running build_scripts\n",
      "running install_lib\n",
      "copying build/lib/pymialsrtk/info.py -> /opt/conda/envs/pymialsrtk-env/lib/python3.7/site-packages/pymialsrtk\n",
      "copying build/lib/pymialsrtk/interfaces/registration.py -> /opt/conda/envs/pymialsrtk-env/lib/python3.7/site-packages/pymialsrtk/interfaces\n",
      "copying build/lib/pymialsrtk/interfaces/reconstruction.py -> /opt/conda/envs/pymialsrtk-env/lib/python3.7/site-packages/pymialsrtk/interfaces\n",
      "copying build/lib/pymialsrtk/interfaces/preprocess.py -> /opt/conda/envs/pymialsrtk-env/lib/python3.7/site-packages/pymialsrtk/interfaces\n",
      "copying build/lib/pymialsrtk/interfaces/__init__.py -> /opt/conda/envs/pymialsrtk-env/lib/python3.7/site-packages/pymialsrtk/interfaces\n",
      "copying build/lib/pymialsrtk/interfaces/utils.py -> /opt/conda/envs/pymialsrtk-env/lib/python3.7/site-packages/pymialsrtk/interfaces\n",
      "copying build/lib/pymialsrtk/__init__.py -> /opt/conda/envs/pymialsrtk-env/lib/python3.7/site-packages/pymialsrtk\n",
      "copying build/lib/pymialsrtk/pipelines/__init__.py -> /opt/conda/envs/pymialsrtk-env/lib/python3.7/site-packages/pymialsrtk/pipelines\n",
      "byte-compiling /opt/conda/envs/pymialsrtk-env/lib/python3.7/site-packages/pymialsrtk/info.py to info.cpython-37.pyc\n",
      "byte-compiling /opt/conda/envs/pymialsrtk-env/lib/python3.7/site-packages/pymialsrtk/interfaces/registration.py to registration.cpython-37.pyc\n",
      "byte-compiling /opt/conda/envs/pymialsrtk-env/lib/python3.7/site-packages/pymialsrtk/interfaces/reconstruction.py to reconstruction.cpython-37.pyc\n",
      "byte-compiling /opt/conda/envs/pymialsrtk-env/lib/python3.7/site-packages/pymialsrtk/interfaces/preprocess.py to preprocess.cpython-37.pyc\n",
      "byte-compiling /opt/conda/envs/pymialsrtk-env/lib/python3.7/site-packages/pymialsrtk/interfaces/__init__.py to __init__.cpython-37.pyc\n",
      "byte-compiling /opt/conda/envs/pymialsrtk-env/lib/python3.7/site-packages/pymialsrtk/interfaces/utils.py to utils.cpython-37.pyc\n",
      "byte-compiling /opt/conda/envs/pymialsrtk-env/lib/python3.7/site-packages/pymialsrtk/__init__.py to __init__.cpython-37.pyc\n",
      "byte-compiling /opt/conda/envs/pymialsrtk-env/lib/python3.7/site-packages/pymialsrtk/pipelines/__init__.py to __init__.cpython-37.pyc\n",
      "running install_scripts\n",
      "copying build/scripts-3.7/superresolution -> /opt/conda/envs/pymialsrtk-env/bin\n",
      "changing mode of /opt/conda/envs/pymialsrtk-env/bin/superresolution to 755\n",
      "running install_egg_info\n",
      "Removing /opt/conda/envs/pymialsrtk-env/lib/python3.7/site-packages/pymialsrtk-2.0.0_beta_20190906-py3.7.egg-info\n",
      "Writing /opt/conda/envs/pymialsrtk-env/lib/python3.7/site-packages/pymialsrtk-2.0.0_beta_20190906-py3.7.egg-info\n"
     ]
    }
   ],
   "source": [
    "%%bash\n",
    "# Go to folder containing the source code\n",
    "cd /app/mialsuperresolutiontoolkit/\n",
    "# Install the pymialsrtk package inside the python/conda environment\n",
    "python setup.py install --force"
   ]
  },
  {
   "cell_type": "code",
   "execution_count": 2,
   "metadata": {
    "scrolled": false
   },
   "outputs": [
    {
     "name": "stdout",
     "output_type": "stream",
     "text": [
      "Check for /fetaldata/derivatives/mialsrtk/dataset_description.json\n",
      "File /fetaldata/derivatives/mialsrtk/dataset_description.json was created\n",
      "191016-16:48:13,285 nipype.workflow INFO:\n",
      "\t Workflow ist settings: ['check', 'execution', 'logging', 'monitoring']\n",
      "191016-16:48:13,288 nipype.workflow INFO:\n",
      "\t Running serially.\n",
      "191016-16:48:13,288 nipype.workflow INFO:\n",
      "\t [Node] Setting-up \"ist.bids_grabber\" in \"/fetaldata/derivatives/mialsrtk/sub-01/nipype/ist/bids_grabber\".\n",
      "191016-16:48:13,291 nipype.workflow INFO:\n",
      "\t [Node] Running \"bids_grabber\" (\"nipype.interfaces.io.BIDSDataGrabber\")\n"
     ]
    },
    {
     "name": "stderr",
     "output_type": "stream",
     "text": [
      "/opt/conda/envs/pymialsrtk-env/lib/python3.7/site-packages/bids/layout/layout.py:659: UserWarning: In pybids 0.9.0, the 'extensions' filter was deprecated in favor of 'extension'. The former will stop working in 0.11.0.\n",
      "  warnings.warn(\"In pybids 0.9.0, the 'extensions' filter was \"\n"
     ]
    },
    {
     "name": "stdout",
     "output_type": "stream",
     "text": [
      "191016-16:48:14,258 nipype.workflow INFO:\n",
      "\t [Node] Finished \"ist.bids_grabber\".\n",
      "191016-16:48:14,258 nipype.workflow INFO:\n",
      "\t [Node] Setting-up \"ist.ist_max\" in \"/fetaldata/derivatives/mialsrtk/sub-01/nipype/ist/ist_max\".\n",
      "191016-16:48:14,261 nipype.workflow INFO:\n",
      "\t [Node] Running \"ist_max\" (\"pymialsrtk.interfaces.preprocess.MultipleMialsrtkIntensityStandardization\")\n",
      "input_image /fetaldata/sub-01/anat/sub-01_run-1_T2w.nii.gz\n",
      "... cmd: mialsrtkIntensityStandardization --input \"/fetaldata/sub-01/anat/sub-01_run-1_T2w.nii.gz\" --output \"/fetaldata/derivatives/mialsrtk/sub-01/nipype/ist/ist_max/sub-01_run-1_T2w_ist.nii.gz\" --max \"271.0\"\n",
      "input_image /fetaldata/sub-01/anat/sub-01_run-2_T2w.nii.gz\n",
      "... cmd: mialsrtkIntensityStandardization --input \"/fetaldata/sub-01/anat/sub-01_run-2_T2w.nii.gz\" --output \"/fetaldata/derivatives/mialsrtk/sub-01/nipype/ist/ist_max/sub-01_run-2_T2w_ist.nii.gz\" --max \"271.0\"\n",
      "input_image /fetaldata/sub-01/anat/sub-01_run-3_T2w.nii.gz\n",
      "... cmd: mialsrtkIntensityStandardization --input \"/fetaldata/sub-01/anat/sub-01_run-3_T2w.nii.gz\" --output \"/fetaldata/derivatives/mialsrtk/sub-01/nipype/ist/ist_max/sub-01_run-3_T2w_ist.nii.gz\" --max \"271.0\"\n",
      "input_image /fetaldata/sub-01/anat/sub-01_run-4_T2w.nii.gz\n",
      "... cmd: mialsrtkIntensityStandardization --input \"/fetaldata/sub-01/anat/sub-01_run-4_T2w.nii.gz\" --output \"/fetaldata/derivatives/mialsrtk/sub-01/nipype/ist/ist_max/sub-01_run-4_T2w_ist.nii.gz\" --max \"271.0\"\n",
      "input_image /fetaldata/sub-01/anat/sub-01_run-5_T2w.nii.gz\n",
      "... cmd: mialsrtkIntensityStandardization --input \"/fetaldata/sub-01/anat/sub-01_run-5_T2w.nii.gz\" --output \"/fetaldata/derivatives/mialsrtk/sub-01/nipype/ist/ist_max/sub-01_run-5_T2w_ist.nii.gz\" --max \"271.0\"\n",
      "input_image /fetaldata/sub-01/anat/sub-01_run-6_T2w.nii.gz\n",
      "... cmd: mialsrtkIntensityStandardization --input \"/fetaldata/sub-01/anat/sub-01_run-6_T2w.nii.gz\" --output \"/fetaldata/derivatives/mialsrtk/sub-01/nipype/ist/ist_max/sub-01_run-6_T2w_ist.nii.gz\" --max \"271.0\"\n",
      "191016-16:48:16,854 nipype.workflow INFO:\n",
      "\t [Node] Finished \"ist.ist_max\".\n",
      "191016-16:48:16,855 nipype.workflow INFO:\n",
      "\t [Node] Setting-up \"ist.ist_nomax\" in \"/fetaldata/derivatives/mialsrtk/sub-01/nipype/ist/ist_nomax\".\n",
      "191016-16:48:16,857 nipype.workflow INFO:\n",
      "\t [Node] Running \"ist_nomax\" (\"pymialsrtk.interfaces.preprocess.MultipleMialsrtkIntensityStandardization\")\n",
      "input_image /fetaldata/sub-01/anat/sub-01_run-1_T2w.nii.gz\n",
      "... cmd: mialsrtkIntensityStandardization --input \"/fetaldata/sub-01/anat/sub-01_run-1_T2w.nii.gz\" --output \"/fetaldata/derivatives/mialsrtk/sub-01/nipype/ist/ist_nomax/sub-01_run-1_T2w_ist.nii.gz\"\n",
      "input_image /fetaldata/sub-01/anat/sub-01_run-2_T2w.nii.gz\n",
      "... cmd: mialsrtkIntensityStandardization --input \"/fetaldata/sub-01/anat/sub-01_run-2_T2w.nii.gz\" --output \"/fetaldata/derivatives/mialsrtk/sub-01/nipype/ist/ist_nomax/sub-01_run-2_T2w_ist.nii.gz\"\n",
      "input_image /fetaldata/sub-01/anat/sub-01_run-3_T2w.nii.gz\n",
      "... cmd: mialsrtkIntensityStandardization --input \"/fetaldata/sub-01/anat/sub-01_run-3_T2w.nii.gz\" --output \"/fetaldata/derivatives/mialsrtk/sub-01/nipype/ist/ist_nomax/sub-01_run-3_T2w_ist.nii.gz\"\n",
      "input_image /fetaldata/sub-01/anat/sub-01_run-4_T2w.nii.gz\n",
      "... cmd: mialsrtkIntensityStandardization --input \"/fetaldata/sub-01/anat/sub-01_run-4_T2w.nii.gz\" --output \"/fetaldata/derivatives/mialsrtk/sub-01/nipype/ist/ist_nomax/sub-01_run-4_T2w_ist.nii.gz\"\n",
      "input_image /fetaldata/sub-01/anat/sub-01_run-5_T2w.nii.gz\n",
      "... cmd: mialsrtkIntensityStandardization --input \"/fetaldata/sub-01/anat/sub-01_run-5_T2w.nii.gz\" --output \"/fetaldata/derivatives/mialsrtk/sub-01/nipype/ist/ist_nomax/sub-01_run-5_T2w_ist.nii.gz\"\n",
      "input_image /fetaldata/sub-01/anat/sub-01_run-6_T2w.nii.gz\n",
      "... cmd: mialsrtkIntensityStandardization --input \"/fetaldata/sub-01/anat/sub-01_run-6_T2w.nii.gz\" --output \"/fetaldata/derivatives/mialsrtk/sub-01/nipype/ist/ist_nomax/sub-01_run-6_T2w_ist.nii.gz\"\n",
      "191016-16:48:19,428 nipype.workflow INFO:\n",
      "\t [Node] Finished \"ist.ist_nomax\".\n"
     ]
    }
   ],
   "source": [
    "import os\n",
    "import json\n",
    "\n",
    "# Imports from nipype\n",
    "from nipype.interfaces.io import BIDSDataGrabber\n",
    "from nipype.pipeline import Node, Workflow\n",
    "\n",
    "# Import the implemented interface from pymialsrtk\n",
    "import pymialsrtk.interfaces.preprocess as preprocess\n",
    "\n",
    "# Set different variables (defined in cell 2) such that we do not have to rerun cell 2\n",
    "bids_dir = os.path.join('/fetaldata')\n",
    "output_dir = os.path.join('/fetaldata','derivatives','mialsrtk')\n",
    "mask_dir = os.path.join('/fetaldata','derivatives','manual_masks')\n",
    "subject = '01'\n",
    "\n",
    "#Make sure we start from empty derivatives\n",
    "import shutil\n",
    "shutil.rmtree(output_dir)\n",
    "\n",
    "#Check if mandatory derivatives dataset_description.json exists in derivatives/mialsrtk.\n",
    "# If not, it is created before running the workflow, otherwise BIDSDataGrabber is not happy and raises an error. \n",
    "\n",
    "mialsrtk_dataset_description_json = os.path.join(output_dir,'dataset_description.json')\n",
    "\n",
    "print('Check for {}'.format(mialsrtk_dataset_description_json))\n",
    "if not os.access(mialsrtk_dataset_description_json, os.R_OK):\n",
    "    data = {'PipelineDescription':{'Name': 'MIAL Super-Resolution ToolKit', \n",
    "                                'Version': 'v2.0.0-beta', \n",
    "                                'CodeURL': 'https://github.com/sebastientourbier/mialsuperresolutiontoolkit'\n",
    "                                  },\n",
    "            'Name': 'MIAL Super-Resolution ToolKit',\n",
    "            'BIDSVersion': '1.2.0'\n",
    "           }\n",
    "    os.makedirs(output_dir)\n",
    "    with open(mialsrtk_dataset_description_json, 'w+') as outfile:\n",
    "        json.dump(data, outfile, indent=4)\n",
    "    print('File {} was created'.format(mialsrtk_dataset_description_json))\n",
    "else:\n",
    "    print('File {} already exists'.format(mialsrtk_dataset_description_json))\n",
    "\n",
    "# Construct the workflow\n",
    "wf = Workflow(name=\"ist\",base_dir=os.path.join(output_dir,'sub-{}'.format(subject),'nipype'))\n",
    "\n",
    "bg = Node(interface=BIDSDataGrabber(infields = ['subject']),name='bids_grabber')\n",
    "bg.inputs.base_dir = bids_dir\n",
    "bg.inputs.subject = subject\n",
    "bg.inputs.index_derivatives = True\n",
    "bg.inputs.raise_on_empty = False\n",
    "bg.inputs.output_query = {'T2ws': dict(suffix='T2w',datatype='anat',extensions=[\".nii\",\".nii.gz\"])}\n",
    "\n",
    "\n",
    "# \n",
    "## Not specified maximum value\n",
    "ist_nomax = Node(interface=preprocess.MultipleMialsrtkIntensityStandardization(),name='ist_nomax')\n",
    "ist_nomax.inputs.bids_dir = bids_dir\n",
    "                  \n",
    "wf.connect(bg, \"T2ws\", ist_nomax, \"input_images\")\n",
    "\n",
    "# \n",
    "## Specified maximum value\n",
    "ist_max = Node(interface=preprocess.MultipleMialsrtkIntensityStandardization(),name='ist_max')\n",
    "ist_max.inputs.bids_dir = bids_dir\n",
    "ist_max.inputs.in_max = 271.0\n",
    "                  \n",
    "wf.connect(bg, \"T2ws\", ist_max, \"input_images\")\n",
    "\n",
    "\n",
    "res = wf.run()"
   ]
  },
  {
   "cell_type": "code",
   "execution_count": null,
   "metadata": {},
   "outputs": [],
   "source": []
  }
 ],
 "metadata": {
  "kernelspec": {
   "display_name": "Python 3",
   "language": "python",
   "name": "python3"
  },
  "language_info": {
   "codemirror_mode": {
    "name": "ipython",
    "version": 3
   },
   "file_extension": ".py",
   "mimetype": "text/x-python",
   "name": "python",
   "nbconvert_exporter": "python",
   "pygments_lexer": "ipython3",
   "version": "3.7.2"
  }
 },
 "nbformat": 4,
 "nbformat_minor": 2
}
