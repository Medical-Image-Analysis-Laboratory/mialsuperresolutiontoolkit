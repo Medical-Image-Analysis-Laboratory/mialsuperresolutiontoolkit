{
 "cells": [
  {
   "cell_type": "code",
   "execution_count": 18,
   "id": "communist-richards",
   "metadata": {},
   "outputs": [],
   "source": [
    "import os\n",
    "import pathlib\n",
    "import nibabel as nib\n",
    "import numpy as np\n",
    "from matplotlib import pyplot as plt\n",
    "from nilearn.plotting import plot_anat"
   ]
  },
  {
   "cell_type": "code",
   "execution_count": 7,
   "id": "multiple-conditions",
   "metadata": {},
   "outputs": [
    {
     "name": "stdout",
     "output_type": "stream",
     "text": [
      "Working directory: /Users/sebastientourbier/Softwares/forks/mialsuperresolutiontoolkit-1/notebooks\n"
     ]
    }
   ],
   "source": [
    "working_dir = pathlib.Path(os.getcwd())\n",
    "print(f'Working directory: {working_dir}')"
   ]
  },
  {
   "cell_type": "code",
   "execution_count": 24,
   "id": "expired-techno",
   "metadata": {},
   "outputs": [
    {
     "name": "stdout",
     "output_type": "stream",
     "text": [
      "  > Load SR image /Users/sebastientourbier/Softwares/forks/mialsuperresolutiontoolkit-1/notebooks/data/sub-01_rec-SR_id-1_T2w.nii.gz...\n",
      "    Image properties: Zooms=(1.125, 1.125, 1.125)/ Shape=(320, 320, 73)/ FOV=[360.    360.     82.125]/ middle cut=[160, 160, 36]\n",
      "  > Crop SR image at (100:220, 100:220, 0:-1)...\n",
      "Save the PNG as /Users/sebastientourbier/Softwares/forks/mialsuperresolutiontoolkit-1/notebooks/sub-01_rec-SR_id-1_T2w.png\n"
     ]
    },
    {
     "data": {
      "image/png": "[encoded data removed]",
      "text/plain": [
       "<Figure size 475.2x187.2 with 4 Axes>"
      ]
     },
     "metadata": {},
     "output_type": "display_data"
    }
   ],
   "source": [
    "out_sr = pathlib.Path(working_dir / 'data' / 'sub-01_rec-SR_id-1_T2w.nii.gz')\n",
    "out_sr_png = pathlib.Path(working_dir / 'sub-01_rec-SR_id-1_T2w.png')\n",
    "\n",
    "##################################\n",
    "# Load the super-resolution image\n",
    "##################################\n",
    "print(f'  > Load SR image {out_sr}...')\n",
    "img = nib.load(out_sr)\n",
    "\n",
    "# Get image properties\n",
    "zooms = img.header.get_zooms()  # zooms are the size of the voxels\n",
    "shape = img.shape\n",
    "fov = np.array(zooms) * np.array(shape)\n",
    "# Get middle cut\n",
    "cut = [s // 2 for s in shape]\n",
    "\n",
    "print(f'    Image properties: Zooms={zooms}/ Shape={shape}/ FOV={fov}/ middle cut={cut}')\n",
    "\n",
    "####################################################\n",
    "# Crop the image if the FOV exceeds a certain value\n",
    "####################################################\n",
    "def compute_axis_crop_indices(cut, fov, max_fov=120):\n",
    "    '''Compute the cropping index in a dimension if the Field-Of-View exceeds a maximum value of 120mm by default.\n",
    "    \n",
    "    Parameters\n",
    "    ----------\n",
    "    cut: int\n",
    "        Middle slice index in a given dimension\n",
    "        \n",
    "    fov: float\n",
    "        Slice Field-of-View (mm) in a given dimension\n",
    "        \n",
    "    max_fov: float\n",
    "        Maximum Slice Field-of-View (mm) to which the image does not need to be cropped\n",
    "        (120mm by default)\n",
    "        \n",
    "    Returns\n",
    "    -------\n",
    "    (crop_start_index, crop_end_index): (int, int)\n",
    "        Starting and ending indices of the image crop along the given dimension\n",
    "\n",
    "    '''\n",
    "    crop_start_index = cut - max_fov // 2 if fov > max_fov else 0\n",
    "    crop_end_index = cut + max_fov // 2 if fov > max_fov else -1\n",
    "    return (crop_start_index, crop_end_index)\n",
    "   \n",
    "max_fov = 120 # in mm\n",
    "crop_start_x, crop_end_x = compute_axis_crop_indices(cut[0], fov[0], max_fov=max_fov)\n",
    "crop_start_y, crop_end_y = compute_axis_crop_indices(cut[1], fov[1], max_fov=max_fov)\n",
    "crop_start_z, crop_end_z = compute_axis_crop_indices(cut[2], fov[2], max_fov=max_fov)\n",
    "\n",
    "print(\n",
    "    f'  > Crop SR image at '\n",
    "    f'({crop_start_x}:{crop_end_x}, {crop_start_y}:{crop_end_y}, {crop_start_z}:{crop_end_z})...'\n",
    ")\n",
    "cropped_img = img.slicer[\n",
    "    crop_start_x:crop_end_x,\n",
    "    crop_start_y:crop_end_y,\n",
    "    crop_start_z:crop_end_z\n",
    "]\n",
    "\n",
    "###########################\n",
    "# Create and save the plot\n",
    "###########################\n",
    "display = plot_anat(\n",
    "    cut_coords= (6, 6, 6),\n",
    "    anat_img=cropped_img,\n",
    "    annotate=True,\n",
    "    draw_cross=False,\n",
    "    black_bg=True,\n",
    "    dim='auto',\n",
    "    display_mode='ortho',\n",
    ")\n",
    "print(f'Save the PNG as {out_sr_png}')\n",
    "plt.savefig(\n",
    "    out_sr_png,\n",
    "    dpi=100,\n",
    "    facecolor='k',\n",
    "    edgecolor='k'\n",
    ")"
   ]
  },
  {
   "cell_type": "code",
   "execution_count": null,
   "id": "chubby-order",
   "metadata": {},
   "outputs": [],
   "source": []
  }
 ],
 "metadata": {
  "kernelspec": {
   "display_name": "Python 3 (ipykernel)",
   "language": "python",
   "name": "python3"
  },
  "language_info": {
   "codemirror_mode": {
    "name": "ipython",
    "version": 3
   },
   "file_extension": ".py",
   "mimetype": "text/x-python",
   "name": "python",
   "nbconvert_exporter": "python",
   "pygments_lexer": "ipython3",
   "version": "3.7.10"
  }
 },
 "nbformat": 4,
 "nbformat_minor": 5
}
