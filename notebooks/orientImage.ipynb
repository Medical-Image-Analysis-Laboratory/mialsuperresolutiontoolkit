{
 "cells": [
  {
   "cell_type": "code",
   "execution_count": 44,
   "metadata": {},
   "outputs": [],
   "source": [
    "import os\n",
    "\n",
    "from bids import BIDSLayout\n",
    "\n",
    "from glob import glob\n",
    "\n",
    "from nipype.interfaces.io import BIDSDataGrabber\n",
    "from nipype.pipeline import Node, MapNode, Workflow\n",
    "from nipype.interfaces.utility import Function"
   ]
  },
  {
   "cell_type": "code",
   "execution_count": 51,
   "metadata": {},
   "outputs": [
    {
     "name": "stdout",
     "output_type": "stream",
     "text": [
      "BIDS Layout: .../fetaldata | Subjects: 1 | Sessions: 0 | Runs: 6\n"
     ]
    }
   ],
   "source": [
    "bids_dir = os.path.join('/fetaldata')\n",
    "output_dir = os.path.join('/fetaldata','derivatives','mialsrtk')\n",
    "mask_dir = os.path.join('/fetaldata','derivatives','manual_masks')\n",
    "\n",
    "subject = '01'\n",
    "\n",
    "layout = BIDSLayout(bids_dir,derivatives=mask_dir)\n",
    "print(layout)\n",
    "\n",
    "#Make sure we start from empty derivatives\n",
    "#import shutil\n",
    "#shutil.rmtree(output_dir)"
   ]
  },
  {
   "cell_type": "code",
   "execution_count": 52,
   "metadata": {},
   "outputs": [],
   "source": [
    "import subprocess\n",
    "def run(self, command, env={}, cwd=os.getcwd()):\n",
    "    merged_env = os.environ\n",
    "    merged_env.update(env)\n",
    "    process = subprocess.run(command, shell=True,\n",
    "                               env=merged_env, cwd=cwd, capture_output=True)\n",
    "    return process"
   ]
  },
  {
   "cell_type": "code",
   "execution_count": 53,
   "metadata": {},
   "outputs": [],
   "source": [
    "from traits.api import *\n",
    "\n",
    "import nibabel as nib\n",
    "\n",
    "from nipype.utils.filemanip import split_filename\n",
    "from nipype.interfaces.base import traits, isdefined, CommandLine, CommandLineInputSpec,\\\n",
    "    TraitedSpec, File, InputMultiPath, OutputMultiPath, BaseInterface, BaseInterfaceInputSpec\n",
    "\n",
    "from nipype.interfaces.mixins import reporting\n",
    "\n"
   ]
  },
  {
   "cell_type": "code",
   "execution_count": 59,
   "metadata": {},
   "outputs": [
    {
     "name": "stdout",
     "output_type": "stream",
     "text": [
      "\n",
      "USAGE: \n",
      "\n",
      "   mialsrtkOrientImage  [-O <string>] -o <string> -i <string> [--]\n",
      "                        [--version] [-h]\n",
      "\n",
      "\n",
      "Where: \n",
      "\n",
      "   -O <string>,  --orientation <string>\n",
      "     Output orientation: axial (default), sagittal, coronal, or RIP\n",
      "\n",
      "   -o <string>,  --output <string>\n",
      "     (required)  Output Image File\n",
      "\n",
      "   -i <string>,  --input <string>\n",
      "     (required)  Input Image File\n",
      "\n",
      "   --,  --ignore_rest\n",
      "     Ignores the rest of the labeled arguments following this flag.\n",
      "\n",
      "   --version\n",
      "     Displays version information and exits.\n",
      "\n",
      "   -h,  --help\n",
      "     Displays usage information and exits.\n",
      "\n",
      "\n",
      "   Reorient an image\n",
      "\n"
     ]
    }
   ],
   "source": [
    "%%bash \n",
    "\n",
    "mialsrtkOrientImage --help"
   ]
  },
  {
   "cell_type": "code",
   "execution_count": 24,
   "metadata": {},
   "outputs": [
    {
     "name": "stderr",
     "output_type": "stream",
     "text": [
      "  File \"/usr/local/bin/mialsrtkHistogramNormalization.py\", line 48\n",
      "    print 'min ='+str(landmarks['p1'])\n",
      "                ^\n",
      "SyntaxError: invalid syntax\n"
     ]
    },
    {
     "ename": "CalledProcessError",
     "evalue": "Command 'b'python /usr/local/bin/mialsrtkHistogramNormalization.py\\n'' returned non-zero exit status 1.",
     "output_type": "error",
     "traceback": [
      "\u001b[0;31m---------------------------------------------------------------------------\u001b[0m",
      "\u001b[0;31mCalledProcessError\u001b[0m                        Traceback (most recent call last)",
      "\u001b[0;32m<ipython-input-24-41d0df2ceb25>\u001b[0m in \u001b[0;36m<module>\u001b[0;34m\u001b[0m\n\u001b[0;32m----> 1\u001b[0;31m \u001b[0mget_ipython\u001b[0m\u001b[0;34m(\u001b[0m\u001b[0;34m)\u001b[0m\u001b[0;34m.\u001b[0m\u001b[0mrun_cell_magic\u001b[0m\u001b[0;34m(\u001b[0m\u001b[0;34m'bash'\u001b[0m\u001b[0;34m,\u001b[0m \u001b[0;34m''\u001b[0m\u001b[0;34m,\u001b[0m \u001b[0;34m'python /usr/local/bin/mialsrtkHistogramNormalization.py\\n'\u001b[0m\u001b[0;34m)\u001b[0m\u001b[0;34m\u001b[0m\u001b[0;34m\u001b[0m\u001b[0m\n\u001b[0m",
      "\u001b[0;32m/opt/conda/envs/pymialsrtk-env/lib/python3.7/site-packages/IPython/core/interactiveshell.py\u001b[0m in \u001b[0;36mrun_cell_magic\u001b[0;34m(self, magic_name, line, cell)\u001b[0m\n\u001b[1;32m   2357\u001b[0m             \u001b[0;32mwith\u001b[0m \u001b[0mself\u001b[0m\u001b[0;34m.\u001b[0m\u001b[0mbuiltin_trap\u001b[0m\u001b[0;34m:\u001b[0m\u001b[0;34m\u001b[0m\u001b[0;34m\u001b[0m\u001b[0m\n\u001b[1;32m   2358\u001b[0m                 \u001b[0margs\u001b[0m \u001b[0;34m=\u001b[0m \u001b[0;34m(\u001b[0m\u001b[0mmagic_arg_s\u001b[0m\u001b[0;34m,\u001b[0m \u001b[0mcell\u001b[0m\u001b[0;34m)\u001b[0m\u001b[0;34m\u001b[0m\u001b[0;34m\u001b[0m\u001b[0m\n\u001b[0;32m-> 2359\u001b[0;31m                 \u001b[0mresult\u001b[0m \u001b[0;34m=\u001b[0m \u001b[0mfn\u001b[0m\u001b[0;34m(\u001b[0m\u001b[0;34m*\u001b[0m\u001b[0margs\u001b[0m\u001b[0;34m,\u001b[0m \u001b[0;34m**\u001b[0m\u001b[0mkwargs\u001b[0m\u001b[0;34m)\u001b[0m\u001b[0;34m\u001b[0m\u001b[0;34m\u001b[0m\u001b[0m\n\u001b[0m\u001b[1;32m   2360\u001b[0m             \u001b[0;32mreturn\u001b[0m \u001b[0mresult\u001b[0m\u001b[0;34m\u001b[0m\u001b[0;34m\u001b[0m\u001b[0m\n\u001b[1;32m   2361\u001b[0m \u001b[0;34m\u001b[0m\u001b[0m\n",
      "\u001b[0;32m/opt/conda/envs/pymialsrtk-env/lib/python3.7/site-packages/IPython/core/magics/script.py\u001b[0m in \u001b[0;36mnamed_script_magic\u001b[0;34m(line, cell)\u001b[0m\n\u001b[1;32m    140\u001b[0m             \u001b[0;32melse\u001b[0m\u001b[0;34m:\u001b[0m\u001b[0;34m\u001b[0m\u001b[0;34m\u001b[0m\u001b[0m\n\u001b[1;32m    141\u001b[0m                 \u001b[0mline\u001b[0m \u001b[0;34m=\u001b[0m \u001b[0mscript\u001b[0m\u001b[0;34m\u001b[0m\u001b[0;34m\u001b[0m\u001b[0m\n\u001b[0;32m--> 142\u001b[0;31m             \u001b[0;32mreturn\u001b[0m \u001b[0mself\u001b[0m\u001b[0;34m.\u001b[0m\u001b[0mshebang\u001b[0m\u001b[0;34m(\u001b[0m\u001b[0mline\u001b[0m\u001b[0;34m,\u001b[0m \u001b[0mcell\u001b[0m\u001b[0;34m)\u001b[0m\u001b[0;34m\u001b[0m\u001b[0;34m\u001b[0m\u001b[0m\n\u001b[0m\u001b[1;32m    143\u001b[0m \u001b[0;34m\u001b[0m\u001b[0m\n\u001b[1;32m    144\u001b[0m         \u001b[0;31m# write a basic docstring:\u001b[0m\u001b[0;34m\u001b[0m\u001b[0;34m\u001b[0m\u001b[0;34m\u001b[0m\u001b[0m\n",
      "\u001b[0;32m</opt/conda/envs/pymialsrtk-env/lib/python3.7/site-packages/decorator.py:decorator-gen-110>\u001b[0m in \u001b[0;36mshebang\u001b[0;34m(self, line, cell)\u001b[0m\n",
      "\u001b[0;32m/opt/conda/envs/pymialsrtk-env/lib/python3.7/site-packages/IPython/core/magic.py\u001b[0m in \u001b[0;36m<lambda>\u001b[0;34m(f, *a, **k)\u001b[0m\n\u001b[1;32m    185\u001b[0m     \u001b[0;31m# but it's overkill for just that one bit of state.\u001b[0m\u001b[0;34m\u001b[0m\u001b[0;34m\u001b[0m\u001b[0;34m\u001b[0m\u001b[0m\n\u001b[1;32m    186\u001b[0m     \u001b[0;32mdef\u001b[0m \u001b[0mmagic_deco\u001b[0m\u001b[0;34m(\u001b[0m\u001b[0marg\u001b[0m\u001b[0;34m)\u001b[0m\u001b[0;34m:\u001b[0m\u001b[0;34m\u001b[0m\u001b[0;34m\u001b[0m\u001b[0m\n\u001b[0;32m--> 187\u001b[0;31m         \u001b[0mcall\u001b[0m \u001b[0;34m=\u001b[0m \u001b[0;32mlambda\u001b[0m \u001b[0mf\u001b[0m\u001b[0;34m,\u001b[0m \u001b[0;34m*\u001b[0m\u001b[0ma\u001b[0m\u001b[0;34m,\u001b[0m \u001b[0;34m**\u001b[0m\u001b[0mk\u001b[0m\u001b[0;34m:\u001b[0m \u001b[0mf\u001b[0m\u001b[0;34m(\u001b[0m\u001b[0;34m*\u001b[0m\u001b[0ma\u001b[0m\u001b[0;34m,\u001b[0m \u001b[0;34m**\u001b[0m\u001b[0mk\u001b[0m\u001b[0;34m)\u001b[0m\u001b[0;34m\u001b[0m\u001b[0;34m\u001b[0m\u001b[0m\n\u001b[0m\u001b[1;32m    188\u001b[0m \u001b[0;34m\u001b[0m\u001b[0m\n\u001b[1;32m    189\u001b[0m         \u001b[0;32mif\u001b[0m \u001b[0mcallable\u001b[0m\u001b[0;34m(\u001b[0m\u001b[0marg\u001b[0m\u001b[0;34m)\u001b[0m\u001b[0;34m:\u001b[0m\u001b[0;34m\u001b[0m\u001b[0;34m\u001b[0m\u001b[0m\n",
      "\u001b[0;32m/opt/conda/envs/pymialsrtk-env/lib/python3.7/site-packages/IPython/core/magics/script.py\u001b[0m in \u001b[0;36mshebang\u001b[0;34m(self, line, cell)\u001b[0m\n\u001b[1;32m    243\u001b[0m             \u001b[0msys\u001b[0m\u001b[0;34m.\u001b[0m\u001b[0mstderr\u001b[0m\u001b[0;34m.\u001b[0m\u001b[0mflush\u001b[0m\u001b[0;34m(\u001b[0m\u001b[0;34m)\u001b[0m\u001b[0;34m\u001b[0m\u001b[0;34m\u001b[0m\u001b[0m\n\u001b[1;32m    244\u001b[0m         \u001b[0;32mif\u001b[0m \u001b[0margs\u001b[0m\u001b[0;34m.\u001b[0m\u001b[0mraise_error\u001b[0m \u001b[0;32mand\u001b[0m \u001b[0mp\u001b[0m\u001b[0;34m.\u001b[0m\u001b[0mreturncode\u001b[0m\u001b[0;34m!=\u001b[0m\u001b[0;36m0\u001b[0m\u001b[0;34m:\u001b[0m\u001b[0;34m\u001b[0m\u001b[0;34m\u001b[0m\u001b[0m\n\u001b[0;32m--> 245\u001b[0;31m             \u001b[0;32mraise\u001b[0m \u001b[0mCalledProcessError\u001b[0m\u001b[0;34m(\u001b[0m\u001b[0mp\u001b[0m\u001b[0;34m.\u001b[0m\u001b[0mreturncode\u001b[0m\u001b[0;34m,\u001b[0m \u001b[0mcell\u001b[0m\u001b[0;34m,\u001b[0m \u001b[0moutput\u001b[0m\u001b[0;34m=\u001b[0m\u001b[0mout\u001b[0m\u001b[0;34m,\u001b[0m \u001b[0mstderr\u001b[0m\u001b[0;34m=\u001b[0m\u001b[0merr\u001b[0m\u001b[0;34m)\u001b[0m\u001b[0;34m\u001b[0m\u001b[0;34m\u001b[0m\u001b[0m\n\u001b[0m\u001b[1;32m    246\u001b[0m \u001b[0;34m\u001b[0m\u001b[0m\n\u001b[1;32m    247\u001b[0m     \u001b[0;32mdef\u001b[0m \u001b[0m_run_script\u001b[0m\u001b[0;34m(\u001b[0m\u001b[0mself\u001b[0m\u001b[0;34m,\u001b[0m \u001b[0mp\u001b[0m\u001b[0;34m,\u001b[0m \u001b[0mcell\u001b[0m\u001b[0;34m,\u001b[0m \u001b[0mto_close\u001b[0m\u001b[0;34m)\u001b[0m\u001b[0;34m:\u001b[0m\u001b[0;34m\u001b[0m\u001b[0;34m\u001b[0m\u001b[0m\n",
      "\u001b[0;31mCalledProcessError\u001b[0m: Command 'b'python /usr/local/bin/mialsrtkHistogramNormalization.py\\n'' returned non-zero exit status 1."
     ]
    }
   ],
   "source": [
    "%%bash\n",
    "python /usr/local/bin/mialsrtkHistogramNormalization.py"
   ]
  },
  {
   "cell_type": "code",
   "execution_count": 55,
   "metadata": {},
   "outputs": [],
   "source": [
    "class MialsrtkOrientImageInputSpec(BaseInterfaceInputSpec):\n",
    "    bids_dir = Directory(desc='BIDS root directory',mandatory=True,exists=True)\n",
    "    in_file = File(desc='Input image',mandatory=True)\n",
    "    out_postfix = traits.Str(\"_reoriented\", usedefault=True)\n",
    "    orientation = traits.Str('axial',desc='Desired orientation (axial by default)')\n",
    "\n",
    "class MialsrtkOrientImageOutputSpec(TraitedSpec):\n",
    "    out_file = File(desc='Reoriented image')\n",
    "\n",
    "class MialsrtkOrientImage(BaseInterface):\n",
    "\n",
    "    input_spec = MialsrtkOrientImageInputSpec\n",
    "    output_spec = MialsrtkOrientImageOutputSpec\n",
    "    \n",
    "    def _run_interface(self, runtime): \n",
    "        _, name, ext = split_filename(os.path.abspath(self.inputs.in_file))\n",
    "        out_file = os.path.join(os.getcwd().replace(self.inputs.bids_dir,'/fetaldata'), ''.join((name, self.inputs.out_postfix, ext)))\n",
    "\n",
    "        cmd = 'mialsrtkOrientImage -i \"{}\" -o \"{}\" -O {}'.format(self.inputs.in_file,out_file,self.inputs.orientation)\n",
    "        \n",
    "        try:\n",
    "            print('... cmd: {}'.format(cmd))\n",
    "            run(self, cmd, env={}, cwd=os.path.abspath(self.inputs.bids_dir))\n",
    "        except:\n",
    "            print('Failed')\n",
    "        return runtime\n",
    "\n",
    "    def _list_outputs(self):\n",
    "        outputs = self._outputs().get()\n",
    "        _, name, ext = split_filename(os.path.abspath(self.inputs.in_file))\n",
    "        outputs['out_file'] = os.path.join(os.getcwd().replace(self.inputs.bids_dir,'/fetaldata'), ''.join((name, self.inputs.out_postfix, ext)))\n",
    "        return outputs\n",
    "    \n",
    "class MultipleMialsrtkOrientImageInputSpec(BaseInterfaceInputSpec):\n",
    "    bids_dir = Directory(desc='BIDS root directory',mandatory=True,exists=True)\n",
    "    input_images = InputMultiPath(File(desc='files to be reoriented', mandatory = True))\n",
    "    orientation = traits.Str('axial')\n",
    "    out_postfix = traits.Str(\"_reoriented\", usedefault=True)\n",
    "    \n",
    "class MultipleMialsrtkOrientImageOutputSpec(TraitedSpec):\n",
    "    output_images = OutputMultiPath(File())\n",
    "\n",
    "class MultipleMialsrtkOrientImage(BaseInterface):\n",
    "    input_spec = MultipleMialsrtkOrientImageInputSpec\n",
    "    output_spec = MultipleMialsrtkOrientImageOutputSpec\n",
    "\n",
    "    def _run_interface(self, runtime):\n",
    "        #if len(self.inputs.input_images)>0:\n",
    "        for input_image in self.inputs.input_images:\n",
    "            ax = MialsrtkOrientImage(bids_dir = self.inputs.bids_dir, in_file = input_image, out_postfix=self.inputs.out_postfix, orientation = self.inputs.orientation)\n",
    "            ax.run()\n",
    "        return runtime\n",
    "\n",
    "    def _list_outputs(self):\n",
    "        outputs = self._outputs().get()\n",
    "        outputs['output_images'] = glob(os.path.abspath(\"*.nii.gz\"))\n",
    "        return outputs"
   ]
  },
  {
   "cell_type": "code",
   "execution_count": 56,
   "metadata": {
    "scrolled": true
   },
   "outputs": [
    {
     "name": "stdout",
     "output_type": "stream",
     "text": [
      "Check for /fetaldata/derivatives/mialsrtk/dataset_description.json\n",
      "File /fetaldata/derivatives/mialsrtk/dataset_description.json already exists\n",
      "191023-17:40:00,709 nipype.workflow INFO:\n",
      "\t Workflow image_reorientation settings: ['check', 'execution', 'logging', 'monitoring']\n",
      "191023-17:40:00,715 nipype.workflow INFO:\n",
      "\t Running serially.\n",
      "191023-17:40:00,717 nipype.workflow INFO:\n",
      "\t [Node] Setting-up \"image_reorientation.bids_grabber\" in \"/fetaldata/derivatives/mialsrtk/sub-01/nipype/image_reorientation/bids_grabber\".\n",
      "191023-17:40:00,721 nipype.workflow INFO:\n",
      "\t [Node] Running \"bids_grabber\" (\"nipype.interfaces.io.BIDSDataGrabber\")\n"
     ]
    },
    {
     "name": "stderr",
     "output_type": "stream",
     "text": [
      "/opt/conda/envs/pymialsrtk-env/lib/python3.7/site-packages/bids/layout/layout.py:690: UserWarning: In pybids 0.9.0, the 'extensions' filter was deprecated in favor of 'extension'. The former will stop working in 0.11.0.\n",
      "  warnings.warn(\"In pybids 0.9.0, the 'extensions' filter was \"\n"
     ]
    },
    {
     "name": "stdout",
     "output_type": "stream",
     "text": [
      "191023-17:40:02,42 nipype.workflow INFO:\n",
      "\t [Node] Finished \"image_reorientation.bids_grabber\".\n",
      "191023-17:40:02,43 nipype.workflow INFO:\n",
      "\t [Node] Setting-up \"image_reorientation.image_reorientation\" in \"/fetaldata/derivatives/mialsrtk/sub-01/nipype/image_reorientation/image_reorientation\".\n",
      "191023-17:40:02,47 nipype.workflow INFO:\n",
      "\t [Node] Running \"image_reorientation\" (\"__main__.MultipleMialsrtkOrientImage\")\n",
      "... cmd: mialsrtkOrientImage -i \"/fetaldata/sub-01/anat/sub-01_run-1_T2w.nii.gz\" -o \"/fetaldata/derivatives/mialsrtk/sub-01/nipype/image_reorientation/image_reorientation/sub-01_run-1_T2w_reoriented.nii.gz\" -O axial\n",
      "... cmd: mialsrtkOrientImage -i \"/fetaldata/sub-01/anat/sub-01_run-2_T2w.nii.gz\" -o \"/fetaldata/derivatives/mialsrtk/sub-01/nipype/image_reorientation/image_reorientation/sub-01_run-2_T2w_reoriented.nii.gz\" -O axial\n",
      "... cmd: mialsrtkOrientImage -i \"/fetaldata/sub-01/anat/sub-01_run-3_T2w.nii.gz\" -o \"/fetaldata/derivatives/mialsrtk/sub-01/nipype/image_reorientation/image_reorientation/sub-01_run-3_T2w_reoriented.nii.gz\" -O axial\n",
      "... cmd: mialsrtkOrientImage -i \"/fetaldata/sub-01/anat/sub-01_run-4_T2w.nii.gz\" -o \"/fetaldata/derivatives/mialsrtk/sub-01/nipype/image_reorientation/image_reorientation/sub-01_run-4_T2w_reoriented.nii.gz\" -O axial\n",
      "... cmd: mialsrtkOrientImage -i \"/fetaldata/sub-01/anat/sub-01_run-5_T2w.nii.gz\" -o \"/fetaldata/derivatives/mialsrtk/sub-01/nipype/image_reorientation/image_reorientation/sub-01_run-5_T2w_reoriented.nii.gz\" -O axial\n",
      "... cmd: mialsrtkOrientImage -i \"/fetaldata/sub-01/anat/sub-01_run-6_T2w.nii.gz\" -o \"/fetaldata/derivatives/mialsrtk/sub-01/nipype/image_reorientation/image_reorientation/sub-01_run-6_T2w_reoriented.nii.gz\" -O axial\n",
      "191023-17:40:07,435 nipype.workflow INFO:\n",
      "\t [Node] Finished \"image_reorientation.image_reorientation\".\n"
     ]
    }
   ],
   "source": [
    "#Check if mandatory derivatives dataset_description.json exists in derivatives/mialsrtk.\n",
    "# If not, it is created before running the workflow, otherwise BIDSDataGrabber is not happy and raises an error. \n",
    "\n",
    "mialsrtk_dataset_description_json = os.path.join(output_dir,'dataset_description.json')\n",
    "\n",
    "print('Check for {}'.format(mialsrtk_dataset_description_json))\n",
    "if not os.access(mialsrtk_dataset_description_json, os.R_OK):\n",
    "    import json\n",
    "    data = {'PipelineDescription':{'Name': 'MIAL Super-Resolution ToolKit', \n",
    "                                'Version': 'v2.0.0-beta', \n",
    "                                'CodeURL': 'https://github.com/sebastientourbier/mialsuperresolutiontoolkit'\n",
    "                                  },\n",
    "            'Name': 'MIAL Super-Resolution ToolKit',\n",
    "            'BIDSVersion': '1.2.0'\n",
    "           }\n",
    "    os.makedirs(output_dir)\n",
    "    with open(mialsrtk_dataset_description_json, 'w+') as outfile:\n",
    "        json.dump(data, outfile, indent=4)\n",
    "    print('File {} was created'.format(mialsrtk_dataset_description_json))\n",
    "else:\n",
    "    print('File {} already exists'.format(mialsrtk_dataset_description_json))\n",
    "    \n",
    "\n",
    "wf = Workflow(name=\"image_reorientation\",base_dir=os.path.join(output_dir,'sub-{}'.format(subject),'nipype'))\n",
    "\n",
    "bg = Node(interface=BIDSDataGrabber(infields = ['subject']),name='bids_grabber')\n",
    "bg.inputs.base_dir = bids_dir\n",
    "bg.inputs.subject = subject\n",
    "bg.inputs.index_derivatives = True\n",
    "bg.inputs.raise_on_empty = False\n",
    "bg.inputs.output_query = {'T2ws': dict(suffix='T2w',datatype='anat',extensions=[\".nii\",\".nii.gz\"])}\n",
    "imgReorient = Node(interface = MultipleMialsrtkOrientImage(),name='image_reorientation')\n",
    "imgReorient.inputs.bids_dir = bids_dir\n",
    "imgReorient.inputs.orientation = 'axial'\n",
    "                  \n",
    "wf.connect(bg, \"T2ws\", imgReorient, \"input_images\")\n",
    "#wf.connect(bg, \"masks\", nlmDenoise, \"input_masks\")\n",
    "\n",
    "res = wf.run()"
   ]
  },
  {
   "cell_type": "markdown",
   "metadata": {},
   "source": [
    "___"
   ]
  },
  {
   "cell_type": "markdown",
   "metadata": {},
   "source": [
    "___"
   ]
  }
 ],
 "metadata": {
  "kernelspec": {
   "display_name": "Python 3",
   "language": "python",
   "name": "python3"
  },
  "language_info": {
   "codemirror_mode": {
    "name": "ipython",
    "version": 3
   },
   "file_extension": ".py",
   "mimetype": "text/x-python",
   "name": "python",
   "nbconvert_exporter": "python",
   "pygments_lexer": "ipython3",
   "version": "3.7.2"
  }
 },
 "nbformat": 4,
 "nbformat_minor": 2
}
