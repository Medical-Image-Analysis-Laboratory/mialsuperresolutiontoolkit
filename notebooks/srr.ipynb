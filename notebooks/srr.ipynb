{
 "cells": [
  {
   "cell_type": "code",
   "execution_count": 1,
   "metadata": {},
   "outputs": [
    {
     "name": "stdout",
     "output_type": "stream",
     "text": [
      "running install\n",
      "running build\n",
      "running build_py\n",
      "copying pymialsrtk/interfaces/preprocess.py -> build/lib/pymialsrtk/interfaces\n",
      "running build_scripts\n",
      "running install_lib\n",
      "copying build/lib/pymialsrtk/info.py -> /opt/conda/envs/pymialsrtk-env/lib/python3.7/site-packages/pymialsrtk\n",
      "copying build/lib/pymialsrtk/interfaces/registration.py -> /opt/conda/envs/pymialsrtk-env/lib/python3.7/site-packages/pymialsrtk/interfaces\n",
      "copying build/lib/pymialsrtk/interfaces/reconstruction.py -> /opt/conda/envs/pymialsrtk-env/lib/python3.7/site-packages/pymialsrtk/interfaces\n",
      "copying build/lib/pymialsrtk/interfaces/preprocess.py -> /opt/conda/envs/pymialsrtk-env/lib/python3.7/site-packages/pymialsrtk/interfaces\n",
      "copying build/lib/pymialsrtk/interfaces/__init__.py -> /opt/conda/envs/pymialsrtk-env/lib/python3.7/site-packages/pymialsrtk/interfaces\n",
      "copying build/lib/pymialsrtk/interfaces/utils.py -> /opt/conda/envs/pymialsrtk-env/lib/python3.7/site-packages/pymialsrtk/interfaces\n",
      "copying build/lib/pymialsrtk/__init__.py -> /opt/conda/envs/pymialsrtk-env/lib/python3.7/site-packages/pymialsrtk\n",
      "copying build/lib/pymialsrtk/pipelines/__init__.py -> /opt/conda/envs/pymialsrtk-env/lib/python3.7/site-packages/pymialsrtk/pipelines\n",
      "byte-compiling /opt/conda/envs/pymialsrtk-env/lib/python3.7/site-packages/pymialsrtk/info.py to info.cpython-37.pyc\n",
      "byte-compiling /opt/conda/envs/pymialsrtk-env/lib/python3.7/site-packages/pymialsrtk/interfaces/registration.py to registration.cpython-37.pyc\n",
      "byte-compiling /opt/conda/envs/pymialsrtk-env/lib/python3.7/site-packages/pymialsrtk/interfaces/reconstruction.py to reconstruction.cpython-37.pyc\n",
      "byte-compiling /opt/conda/envs/pymialsrtk-env/lib/python3.7/site-packages/pymialsrtk/interfaces/preprocess.py to preprocess.cpython-37.pyc\n",
      "byte-compiling /opt/conda/envs/pymialsrtk-env/lib/python3.7/site-packages/pymialsrtk/interfaces/__init__.py to __init__.cpython-37.pyc\n",
      "byte-compiling /opt/conda/envs/pymialsrtk-env/lib/python3.7/site-packages/pymialsrtk/interfaces/utils.py to utils.cpython-37.pyc\n",
      "byte-compiling /opt/conda/envs/pymialsrtk-env/lib/python3.7/site-packages/pymialsrtk/__init__.py to __init__.cpython-37.pyc\n",
      "byte-compiling /opt/conda/envs/pymialsrtk-env/lib/python3.7/site-packages/pymialsrtk/pipelines/__init__.py to __init__.cpython-37.pyc\n",
      "running install_scripts\n",
      "copying build/scripts-3.7/superresolution -> /opt/conda/envs/pymialsrtk-env/bin\n",
      "changing mode of /opt/conda/envs/pymialsrtk-env/bin/superresolution to 755\n",
      "running install_egg_info\n",
      "Removing /opt/conda/envs/pymialsrtk-env/lib/python3.7/site-packages/pymialsrtk-2.0.0_beta_20190906-py3.7.egg-info\n",
      "Writing /opt/conda/envs/pymialsrtk-env/lib/python3.7/site-packages/pymialsrtk-2.0.0_beta_20190906-py3.7.egg-info\n"
     ]
    }
   ],
   "source": [
    "%%bash\n",
    "# Go to folder containing the source code\n",
    "cd /app/mialsuperresolutiontoolkit/\n",
    "# Install the pymialsrtk package inside the python/conda environment\n",
    "python setup.py install --force"
   ]
  },
  {
   "cell_type": "code",
   "execution_count": 2,
   "metadata": {},
   "outputs": [],
   "source": [
    "import os\n",
    "import json\n",
    "import shutil\n",
    "\n",
    "# Imports from nipype\n",
    "from nipype.interfaces.io import BIDSDataGrabber\n",
    "from nipype.pipeline import Node, Workflow\n",
    "\n",
    "# Import the implemented interface from pymialsrtk\n",
    "import pymialsrtk.interfaces.preprocess as preprocess\n"
   ]
  },
  {
   "cell_type": "code",
   "execution_count": 3,
   "metadata": {},
   "outputs": [],
   "source": [
    "# Set different variables (defined in cell 2) such that we do not have to rerun cell 2\n",
    "bids_dir = os.path.join('/fetaldata')\n",
    "# output_dir = os.path.join('/fetaldata','derivatives')\n",
    "# mask_dir = os.path.join('/fetaldata','derivatives','manual_masks')\n",
    "subject = '01'\n",
    "\n",
    "# #Make sure we start from empty derivatives\n",
    "# if os.path.exists(output_dir):\n",
    "#     shutil.rmtree(output_dir)\n",
    "    \n",
    "\n",
    "# #Check if mandatory derivatives dataset_description.json exists in derivatives/mialsrtk.\n",
    "# # If not, it is created before running the workflow, otherwise BIDSDataGrabber is not happy and raises an error. \n",
    "\n",
    "# mialsrtk_dataset_description_json = os.path.join(output_dir,'dataset_description.json')\n",
    "\n",
    "# print('Check for {}'.format(mialsrtk_dataset_description_json))\n",
    "# if not os.access(mialsrtk_dataset_description_json, os.R_OK):\n",
    "#     data = {'PipelineDescription':{'Name': 'MIAL Super-Resolution ToolKit', \n",
    "#                                 'Version': 'v2.0.0-beta', \n",
    "#                                 'CodeURL': 'https://github.com/sebastientourbier/mialsuperresolutiontoolkit'\n",
    "#                                   },\n",
    "#             'Name': 'MIAL Super-Resolution ToolKit',\n",
    "#             'BIDSVersion': '1.2.0'\n",
    "#            }\n",
    "#     os.makedirs(output_dir)\n",
    "#     with open(mialsrtk_dataset_description_json, 'w+') as outfile:\n",
    "#         json.dump(data, outfile, indent=4)\n",
    "#     print('File {} was created'.format(mialsrtk_dataset_description_json))\n",
    "# else:\n",
    "#     print('File {} already exists'.format(mialsrtk_dataset_description_json))"
   ]
  },
  {
   "cell_type": "code",
   "execution_count": 4,
   "metadata": {},
   "outputs": [],
   "source": [
    "from nipype import config, logging"
   ]
  },
  {
   "cell_type": "code",
   "execution_count": 5,
   "metadata": {
    "scrolled": false
   },
   "outputs": [],
   "source": [
    "## Node linkage\n",
    "def create_workflow(bids_dir,subject):\n",
    "#     wf_base_dir = os.path.join(\"{}\".format(output_dir),\"superres-mri\",\"sub-{}\".format(subject),\"nipype\")\n",
    "    output_dir = os.path.join(\"{}\".format(bids_dir),\"derivatives\",\"superres-mri\")\n",
    "    wf_base_dir = os.path.join(output_dir,\"sub-{}\".format(subject))\n",
    "\n",
    "    if not os.path.exists(output_dir):\n",
    "        os.makedirs(output_dir)\n",
    "    print(\"Ouput directory: {}\".format(wf_base_dir))\n",
    "\n",
    "    wf = Workflow(name=\"srr_preproc\",base_dir=wf_base_dir)\n",
    "    \n",
    "    srr_preproc_dir = os.path.join(wf.base_dir, wf.name )\n",
    "    \n",
    "    \n",
    "    # Initialization\n",
    "    if os.path.isfile(os.path.join(output_dir,\"pypeline.log\")):\n",
    "        os.unlink(os.path.join(output_dir,\"pypeline.log\"))\n",
    "#         open(os.path.join(output_dir,\"pypeline.log\"), 'a').close()\n",
    "        \n",
    "\n",
    "    config.update_config({'logging': {'log_directory': os.path.join(output_dir),\n",
    "                              'log_to_file': True},\n",
    "                          'execution': {\n",
    "                            'remove_unnecessary_outputs': False,\n",
    "                            'stop_on_first_crash': True,\n",
    "                            'stop_on_first_rerun': False,\n",
    "                            'crashfile_format': \"txt\",\n",
    "                            'write_provenance' : False,\n",
    "                            },\n",
    "                          'monitoring': {\n",
    "                            'enabled': True\n",
    "                            }\n",
    "                        })\n",
    "    \n",
    "    logging.update_logging(config)\n",
    "    iflogger = logging.getLogger('nipype.interface')\n",
    "\n",
    "    iflogger.info(\"**** Processing ****\")\n",
    "\n",
    "    bg = Node(BIDSDataGrabber(infields = ['subject']),name='bids_grabber')\n",
    "    bg.inputs.base_dir = bids_dir\n",
    "    bg.inputs.subject = subject\n",
    "    bg.inputs.index_derivatives = True\n",
    "    bg.inputs.output_query = {'T2ws': dict(suffix='T2w',datatype='anat',extensions=[\".nii\",\".nii.gz\"]),\n",
    "                              'masks': dict(suffix='mask',datatype='anat',extensions=[\".nii\",\".nii.gz\"])}\n",
    "\n",
    "        \n",
    "    nlmDenoise = Node(interface=preprocess.MultipleBtkNLMDenoising(),name='nlmDenoise')\n",
    "    nlmDenoise.inputs.bids_dir = bids_dir\n",
    "    nlmDenoise.inputs.weight = 1\n",
    "    \n",
    "    \n",
    "    srtkCorrectSliceIntensity01_nlm = Node(interface=preprocess.MultipleMialsrtkCorrectSliceIntensity(),name='srtkCorrectSliceIntensity01_nlm')\n",
    "    srtkCorrectSliceIntensity01_nlm.inputs.bids_dir = bids_dir\n",
    "\n",
    "    srtkCorrectSliceIntensity01 = Node(interface=preprocess.MultipleMialsrtkCorrectSliceIntensity(),name='srtkCorrectSliceIntensity01')\n",
    "    srtkCorrectSliceIntensity01.inputs.bids_dir = bids_dir\n",
    "\n",
    "    \n",
    "    srtkSliceBySliceN4BiasFieldCorrection = Node(interface=preprocess.MultipleMialsrtkSliceBySliceN4BiasFieldCorrection(), name='srtkSliceBySliceN4BiasFieldCorrection')\n",
    "    srtkSliceBySliceN4BiasFieldCorrection.inputs.bids_dir = bids_dir\n",
    "    \n",
    "    srtkSliceBySliceCorrectBiasField = Node(interface=preprocess.MultipleMialsrtkSliceBySliceCorrectBiasField(), name='srtkSliceBySliceCorrectBiasField')\n",
    "    srtkSliceBySliceCorrectBiasField.inputs.bids_dir = bids_dir\n",
    "    \n",
    "    \n",
    "    srtkCorrectSliceIntensity02_nlm = Node(interface=preprocess.MultipleMialsrtkCorrectSliceIntensity(),name='srtkCorrectSliceIntensity02_nlm')\n",
    "    srtkCorrectSliceIntensity02_nlm.inputs.bids_dir = bids_dir\n",
    "\n",
    "    srtkCorrectSliceIntensity02 = Node(interface=preprocess.MultipleMialsrtkCorrectSliceIntensity(),name='srtkCorrectSliceIntensity02')\n",
    "    srtkCorrectSliceIntensity02.inputs.bids_dir = bids_dir\n",
    "    \n",
    "    \n",
    "    srtkIntensityStandardization = Node(interface=preprocess.MialsrtkIntensityStandardization(),name='srtkIntensityStandardization')\n",
    "    srtkIntensityStandardization.inputs.bids_dir = bids_dir\n",
    "    \n",
    "    srtkIntensityStandardization_nlm = Node(interface=preprocess.MialsrtkIntensityStandardization(),name='srtkIntensityStandardization_nlm')\n",
    "    srtkIntensityStandardization_nlm.inputs.bids_dir = bids_dir\n",
    "    \n",
    "    \n",
    "    wf.connect(bg, \"T2ws\", nlmDenoise, \"input_images\")\n",
    "    wf.connect(bg, \"masks\", nlmDenoise, \"input_masks\")\n",
    "    \n",
    "    wf.connect(nlmDenoise, \"output_images\", srtkCorrectSliceIntensity01_nlm, \"input_images\")\n",
    "    wf.connect(bg, \"masks\", srtkCorrectSliceIntensity01_nlm, \"input_masks\")\n",
    "    \n",
    "    wf.connect(bg, \"T2ws\", srtkCorrectSliceIntensity01, \"input_images\")\n",
    "    wf.connect(bg, \"masks\", srtkCorrectSliceIntensity01, \"input_masks\")\n",
    "    \n",
    "    wf.connect(srtkCorrectSliceIntensity01_nlm, \"output_images\", srtkSliceBySliceN4BiasFieldCorrection, \"input_images\")\n",
    "    wf.connect(bg, \"masks\", srtkSliceBySliceN4BiasFieldCorrection, \"input_masks\")\n",
    "    \n",
    "    wf.connect(srtkCorrectSliceIntensity01, \"output_images\", srtkSliceBySliceCorrectBiasField, \"input_images\")\n",
    "    wf.connect(srtkSliceBySliceN4BiasFieldCorrection, \"output_fields\", srtkSliceBySliceCorrectBiasField, \"input_fields\")\n",
    "    wf.connect(bg, \"masks\", srtkSliceBySliceCorrectBiasField, \"input_masks\")\n",
    "    \n",
    "    \n",
    "    wf.connect(srtkSliceBySliceCorrectBiasField, \"output_images\", srtkCorrectSliceIntensity02, \"input_images\")\n",
    "    wf.connect(bg, \"masks\", srtkCorrectSliceIntensity02, \"input_masks\")\n",
    "    \n",
    "    wf.connect(srtkSliceBySliceN4BiasFieldCorrection, \"output_images\", srtkCorrectSliceIntensity02_nlm, \"input_images\")\n",
    "    wf.connect(bg, \"masks\", srtkCorrectSliceIntensity02_nlm, \"input_masks\")\n",
    "    \n",
    "    \n",
    "    \n",
    "    wf.connect(srtkCorrectSliceIntensity02, \"output_images\", srtkIntensityStandardization, \"input_images\")\n",
    "        \n",
    "    wf.connect(srtkCorrectSliceIntensity02_nlm, \"output_images\", srtkIntensityStandardization_nlm, \"input_images\")\n",
    "    \n",
    "    \n",
    "    \n",
    "\n",
    "    return wf"
   ]
  },
  {
   "cell_type": "code",
   "execution_count": 6,
   "metadata": {
    "scrolled": false
   },
   "outputs": [
    {
     "name": "stdout",
     "output_type": "stream",
     "text": [
      "Ouput directory: /fetaldata/derivatives/superres-mri/sub-01\n",
      "200114-18:06:15,616 nipype.interface INFO:\n",
      "\t **** Processing ****\n",
      "200114-18:06:15,637 nipype.workflow INFO:\n",
      "\t Workflow srr_preproc settings: ['check', 'execution', 'logging', 'monitoring']\n",
      "200114-18:06:15,644 nipype.workflow INFO:\n",
      "\t Running serially.\n",
      "200114-18:06:15,645 nipype.workflow INFO:\n",
      "\t [Node] Setting-up \"srr_preproc.bids_grabber\" in \"/fetaldata/derivatives/superres-mri/sub-01/srr_preproc/bids_grabber\".\n",
      "200114-18:06:15,648 nipype.workflow INFO:\n",
      "\t [Node] Running \"bids_grabber\" (\"nipype.interfaces.io.BIDSDataGrabber\")\n"
     ]
    },
    {
     "name": "stderr",
     "output_type": "stream",
     "text": [
      "/opt/conda/envs/pymialsrtk-env/lib/python3.7/site-packages/bids/layout/layout.py:665: UserWarning: In pybids 0.9.0, the 'extensions' filter was deprecated in favor of 'extension'. The former will stop working in 0.11.0.\n",
      "  warnings.warn(\"In pybids 0.9.0, the 'extensions' filter was \"\n"
     ]
    },
    {
     "name": "stdout",
     "output_type": "stream",
     "text": [
      "200114-18:06:17,87 nipype.workflow INFO:\n",
      "\t [Node] Finished \"srr_preproc.bids_grabber\".\n",
      "200114-18:06:17,88 nipype.workflow INFO:\n",
      "\t [Node] Setting-up \"srr_preproc.srtkCorrectSliceIntensity01\" in \"/fetaldata/derivatives/superres-mri/sub-01/srr_preproc/srtkCorrectSliceIntensity01\".\n",
      "200114-18:06:17,90 nipype.workflow INFO:\n",
      "\t [Node] Cached \"srr_preproc.srtkCorrectSliceIntensity01\" - collecting precomputed outputs\n",
      "200114-18:06:17,91 nipype.workflow INFO:\n",
      "\t [Node] \"srr_preproc.srtkCorrectSliceIntensity01\" found cached.\n",
      "200114-18:06:17,91 nipype.workflow INFO:\n",
      "\t [Node] Setting-up \"srr_preproc.nlmDenoise\" in \"/fetaldata/derivatives/superres-mri/sub-01/srr_preproc/nlmDenoise\".\n",
      "200114-18:06:17,94 nipype.workflow INFO:\n",
      "\t [Node] Cached \"srr_preproc.nlmDenoise\" - collecting precomputed outputs\n",
      "200114-18:06:17,95 nipype.workflow INFO:\n",
      "\t [Node] \"srr_preproc.nlmDenoise\" found cached.\n",
      "200114-18:06:17,95 nipype.workflow INFO:\n",
      "\t [Node] Setting-up \"srr_preproc.srtkCorrectSliceIntensity01_nlm\" in \"/fetaldata/derivatives/superres-mri/sub-01/srr_preproc/srtkCorrectSliceIntensity01_nlm\".\n",
      "200114-18:06:17,98 nipype.workflow INFO:\n",
      "\t [Node] Cached \"srr_preproc.srtkCorrectSliceIntensity01_nlm\" - collecting precomputed outputs\n",
      "200114-18:06:17,98 nipype.workflow INFO:\n",
      "\t [Node] \"srr_preproc.srtkCorrectSliceIntensity01_nlm\" found cached.\n",
      "200114-18:06:17,99 nipype.workflow INFO:\n",
      "\t [Node] Setting-up \"srr_preproc.srtkSliceBySliceN4BiasFieldCorrection\" in \"/fetaldata/derivatives/superres-mri/sub-01/srr_preproc/srtkSliceBySliceN4BiasFieldCorrection\".\n",
      "200114-18:06:17,102 nipype.workflow INFO:\n",
      "\t [Node] Cached \"srr_preproc.srtkSliceBySliceN4BiasFieldCorrection\" - collecting precomputed outputs\n",
      "200114-18:06:17,102 nipype.workflow INFO:\n",
      "\t [Node] \"srr_preproc.srtkSliceBySliceN4BiasFieldCorrection\" found cached.\n",
      "200114-18:06:17,103 nipype.workflow INFO:\n",
      "\t [Node] Setting-up \"srr_preproc.srtkCorrectSliceIntensity02_nlm\" in \"/fetaldata/derivatives/superres-mri/sub-01/srr_preproc/srtkCorrectSliceIntensity02_nlm\".\n",
      "200114-18:06:17,106 nipype.workflow INFO:\n",
      "\t [Node] Cached \"srr_preproc.srtkCorrectSliceIntensity02_nlm\" - collecting precomputed outputs\n",
      "200114-18:06:17,106 nipype.workflow INFO:\n",
      "\t [Node] \"srr_preproc.srtkCorrectSliceIntensity02_nlm\" found cached.\n",
      "200114-18:06:17,107 nipype.workflow INFO:\n",
      "\t [Node] Setting-up \"srr_preproc.srtkIntensityStandardization_nlm\" in \"/fetaldata/derivatives/superres-mri/sub-01/srr_preproc/srtkIntensityStandardization_nlm\".\n",
      "200114-18:06:17,110 nipype.workflow INFO:\n",
      "\t [Node] Cached \"srr_preproc.srtkIntensityStandardization_nlm\" - collecting precomputed outputs\n",
      "200114-18:06:17,111 nipype.workflow INFO:\n",
      "\t [Node] \"srr_preproc.srtkIntensityStandardization_nlm\" found cached.\n",
      "200114-18:06:17,111 nipype.workflow INFO:\n",
      "\t [Node] Setting-up \"srr_preproc.srtkSliceBySliceCorrectBiasField\" in \"/fetaldata/derivatives/superres-mri/sub-01/srr_preproc/srtkSliceBySliceCorrectBiasField\".\n",
      "200114-18:06:17,115 nipype.workflow INFO:\n",
      "\t [Node] Cached \"srr_preproc.srtkSliceBySliceCorrectBiasField\" - collecting precomputed outputs\n",
      "200114-18:06:17,115 nipype.workflow INFO:\n",
      "\t [Node] \"srr_preproc.srtkSliceBySliceCorrectBiasField\" found cached.\n",
      "200114-18:06:17,116 nipype.workflow INFO:\n",
      "\t [Node] Setting-up \"srr_preproc.srtkCorrectSliceIntensity02\" in \"/fetaldata/derivatives/superres-mri/sub-01/srr_preproc/srtkCorrectSliceIntensity02\".\n",
      "200114-18:06:17,119 nipype.workflow INFO:\n",
      "\t [Node] Cached \"srr_preproc.srtkCorrectSliceIntensity02\" - collecting precomputed outputs\n",
      "200114-18:06:17,120 nipype.workflow INFO:\n",
      "\t [Node] \"srr_preproc.srtkCorrectSliceIntensity02\" found cached.\n",
      "200114-18:06:17,121 nipype.workflow INFO:\n",
      "\t [Node] Setting-up \"srr_preproc.srtkIntensityStandardization\" in \"/fetaldata/derivatives/superres-mri/sub-01/srr_preproc/srtkIntensityStandardization\".\n",
      "200114-18:06:17,124 nipype.workflow INFO:\n",
      "\t [Node] Cached \"srr_preproc.srtkIntensityStandardization\" - collecting precomputed outputs\n",
      "200114-18:06:17,124 nipype.workflow INFO:\n",
      "\t [Node] \"srr_preproc.srtkIntensityStandardization\" found cached.\n",
      "200114-18:06:17,262 nipype.workflow INFO:\n",
      "\t Generated workflow graph: /fetaldata/derivatives/superres-mri/sub-01/srr_preproc/graph.png (graph2use=hierarchical, simple_form=True).\n"
     ]
    },
    {
     "data": {
      "text/plain": [
       "'/fetaldata/derivatives/superres-mri/sub-01/srr_preproc/graph.png'"
      ]
     },
     "execution_count": 6,
     "metadata": {},
     "output_type": "execute_result"
    }
   ],
   "source": [
    "m_wf = create_workflow(bids_dir, subject)\n",
    "m_wf.run()\n",
    "m_wf.write_graph()"
   ]
  },
  {
   "cell_type": "code",
   "execution_count": 7,
   "metadata": {},
   "outputs": [
    {
     "name": "stdout",
     "output_type": "stream",
     "text": [
      "200114-18:06:17,407 nipype.workflow INFO:\n",
      "\t Generated workflow graph: /fetaldata/derivatives/superres-mri/sub-01/srr_preproc/graph.png (graph2use=hierarchical, simple_form=True).\n"
     ]
    },
    {
     "data": {
      "text/plain": [
       "'/fetaldata/derivatives/superres-mri/sub-01/srr_preproc/graph.png'"
      ]
     },
     "execution_count": 7,
     "metadata": {},
     "output_type": "execute_result"
    }
   ],
   "source": [
    "m_wf.write_graph()"
   ]
  },
  {
   "cell_type": "code",
   "execution_count": null,
   "metadata": {},
   "outputs": [],
   "source": []
  }
 ],
 "metadata": {
  "kernelspec": {
   "display_name": "Python 3",
   "language": "python",
   "name": "python3"
  },
  "language_info": {
   "codemirror_mode": {
    "name": "ipython",
    "version": 3
   },
   "file_extension": ".py",
   "mimetype": "text/x-python",
   "name": "python",
   "nbconvert_exporter": "python",
   "pygments_lexer": "ipython3",
   "version": "3.7.2"
  }
 },
 "nbformat": 4,
 "nbformat_minor": 2
}
